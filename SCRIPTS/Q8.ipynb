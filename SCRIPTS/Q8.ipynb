{
 "cells": [
  {
   "cell_type": "code",
   "execution_count": 89,
   "id": "5cbb403e",
   "metadata": {
    "ExecuteTime": {
     "end_time": "2021-11-08T10:01:56.116278Z",
     "start_time": "2021-11-08T10:01:56.106415Z"
    }
   },
   "outputs": [],
   "source": [
    "import pandas as pd\n",
    "import numpy as np"
   ]
  },
  {
   "cell_type": "code",
   "execution_count": 90,
   "id": "4285266d",
   "metadata": {
    "ExecuteTime": {
     "end_time": "2021-11-08T10:02:01.895981Z",
     "start_time": "2021-11-08T10:02:01.889431Z"
    }
   },
   "outputs": [],
   "source": [
    "#a = pd.read_excel(\"C-17/DDW-C17-0{}00.XLSX\".format(0), skiprows = [0,1,2,4,5])\n",
    "#a.head()"
   ]
  },
  {
   "cell_type": "code",
   "execution_count": 91,
   "id": "a848bde1",
   "metadata": {
    "ExecuteTime": {
     "end_time": "2021-11-08T10:02:11.469979Z",
     "start_time": "2021-11-08T10:02:07.322303Z"
    }
   },
   "outputs": [],
   "source": [
    "data13 = []\n",
    "for i in range(0,36):\n",
    "    if i < 10:\n",
    "        data13.append(pd.read_excel(\"C-13/DDW-0{}00C-13.XLS\".format(i), skiprows = [0,1,2,4,5,6]))\n",
    "    else:\n",
    "        data13.append(pd.read_excel(\"C-13/DDW-{}00C-13.XLS\".format(i), skiprows = [0,1,2,4,5]))"
   ]
  },
  {
   "cell_type": "code",
   "execution_count": 92,
   "id": "47bf8301",
   "metadata": {
    "ExecuteTime": {
     "end_time": "2021-11-08T10:02:17.837379Z",
     "start_time": "2021-11-08T10:02:17.577860Z"
    }
   },
   "outputs": [],
   "source": [
    "data18 = pd.read_excel(\"DDW-C18-0000.XLSX\", skiprows = [0,1,2,4,5])\n",
    "# data19 = pd.read_excel(\"C-19/DDW-C17-0000.XLSX\", skiprows = [0,1,2,4])"
   ]
  },
  {
   "cell_type": "code",
   "execution_count": 93,
   "id": "9ea55e46",
   "metadata": {
    "ExecuteTime": {
     "end_time": "2021-11-08T10:02:23.307867Z",
     "start_time": "2021-11-08T10:02:23.296659Z"
    }
   },
   "outputs": [],
   "source": [
    "districts = data18['Unnamed: 2'].unique()"
   ]
  },
  {
   "cell_type": "code",
   "execution_count": 94,
   "id": "f628a203",
   "metadata": {
    "ExecuteTime": {
     "end_time": "2021-11-08T10:02:29.081678Z",
     "start_time": "2021-11-08T10:02:29.067764Z"
    }
   },
   "outputs": [
    {
     "data": {
      "text/html": [
       "<div>\n",
       "<style scoped>\n",
       "    .dataframe tbody tr th:only-of-type {\n",
       "        vertical-align: middle;\n",
       "    }\n",
       "\n",
       "    .dataframe tbody tr th {\n",
       "        vertical-align: top;\n",
       "    }\n",
       "\n",
       "    .dataframe thead th {\n",
       "        text-align: right;\n",
       "    }\n",
       "</style>\n",
       "<table border=\"1\" class=\"dataframe\">\n",
       "  <thead>\n",
       "    <tr style=\"text-align: right;\">\n",
       "      <th></th>\n",
       "      <th>Unnamed: 0</th>\n",
       "      <th>Unnamed: 1</th>\n",
       "      <th>Unnamed: 2</th>\n",
       "      <th>Urban</th>\n",
       "      <th>Unnamed: 4</th>\n",
       "      <th>Persons</th>\n",
       "      <th>Males</th>\n",
       "      <th>Females</th>\n",
       "      <th>Persons.1</th>\n",
       "      <th>Males.1</th>\n",
       "      <th>Females.1</th>\n",
       "    </tr>\n",
       "  </thead>\n",
       "  <tbody>\n",
       "    <tr>\n",
       "      <th>0</th>\n",
       "      <td>0</td>\n",
       "      <td>0</td>\n",
       "      <td>INDIA</td>\n",
       "      <td>Total</td>\n",
       "      <td>Total</td>\n",
       "      <td>314988770</td>\n",
       "      <td>176696383</td>\n",
       "      <td>138292387</td>\n",
       "      <td>86009580</td>\n",
       "      <td>50536832</td>\n",
       "      <td>35472748</td>\n",
       "    </tr>\n",
       "    <tr>\n",
       "      <th>1</th>\n",
       "      <td>0</td>\n",
       "      <td>0</td>\n",
       "      <td>INDIA</td>\n",
       "      <td>Total</td>\n",
       "      <td>5-9</td>\n",
       "      <td>15649192</td>\n",
       "      <td>8166843</td>\n",
       "      <td>7482349</td>\n",
       "      <td>1844108</td>\n",
       "      <td>978151</td>\n",
       "      <td>865957</td>\n",
       "    </tr>\n",
       "    <tr>\n",
       "      <th>2</th>\n",
       "      <td>0</td>\n",
       "      <td>0</td>\n",
       "      <td>INDIA</td>\n",
       "      <td>Total</td>\n",
       "      <td>10-14</td>\n",
       "      <td>34488492</td>\n",
       "      <td>18133423</td>\n",
       "      <td>16355069</td>\n",
       "      <td>7254335</td>\n",
       "      <td>3831131</td>\n",
       "      <td>3423204</td>\n",
       "    </tr>\n",
       "    <tr>\n",
       "      <th>3</th>\n",
       "      <td>0</td>\n",
       "      <td>0</td>\n",
       "      <td>INDIA</td>\n",
       "      <td>Total</td>\n",
       "      <td>15-19</td>\n",
       "      <td>42424599</td>\n",
       "      <td>22750908</td>\n",
       "      <td>19673691</td>\n",
       "      <td>12626717</td>\n",
       "      <td>6792766</td>\n",
       "      <td>5833951</td>\n",
       "    </tr>\n",
       "    <tr>\n",
       "      <th>4</th>\n",
       "      <td>0</td>\n",
       "      <td>0</td>\n",
       "      <td>INDIA</td>\n",
       "      <td>Total</td>\n",
       "      <td>20-24</td>\n",
       "      <td>41344406</td>\n",
       "      <td>22386694</td>\n",
       "      <td>18957712</td>\n",
       "      <td>12834334</td>\n",
       "      <td>7067614</td>\n",
       "      <td>5766720</td>\n",
       "    </tr>\n",
       "  </tbody>\n",
       "</table>\n",
       "</div>"
      ],
      "text/plain": [
       "   Unnamed: 0  Unnamed: 1 Unnamed: 2  Urban Unnamed: 4    Persons      Males  \\\n",
       "0           0           0      INDIA  Total      Total  314988770  176696383   \n",
       "1           0           0      INDIA  Total        5-9   15649192    8166843   \n",
       "2           0           0      INDIA  Total      10-14   34488492   18133423   \n",
       "3           0           0      INDIA  Total      15-19   42424599   22750908   \n",
       "4           0           0      INDIA  Total      20-24   41344406   22386694   \n",
       "\n",
       "     Females  Persons.1   Males.1  Females.1  \n",
       "0  138292387   86009580  50536832   35472748  \n",
       "1    7482349    1844108    978151     865957  \n",
       "2   16355069    7254335   3831131    3423204  \n",
       "3   19673691   12626717   6792766    5833951  \n",
       "4   18957712   12834334   7067614    5766720  "
      ]
     },
     "execution_count": 94,
     "metadata": {},
     "output_type": "execute_result"
    }
   ],
   "source": [
    "data18.head()"
   ]
  },
  {
   "cell_type": "code",
   "execution_count": 95,
   "id": "bdd53c87",
   "metadata": {
    "ExecuteTime": {
     "end_time": "2021-11-08T10:02:34.394415Z",
     "start_time": "2021-11-08T10:02:34.386468Z"
    }
   },
   "outputs": [
    {
     "data": {
      "text/plain": [
       "array(['INDIA', 'JAMMU & KASHMIR', 'HIMACHAL PRADESH', 'PUNJAB',\n",
       "       'CHANDIGARH', 'UTTARAKHAND', 'HARYANA', 'NCT OF DELHI',\n",
       "       'RAJASTHAN', 'UTTAR PRADESH', 'BIHAR', 'SIKKIM',\n",
       "       'ARUNACHAL PRADESH', 'NAGALAND', 'MANIPUR', 'MIZORAM', 'TRIPURA',\n",
       "       'MEGHALAYA', 'ASSAM', 'WEST BENGAL', 'JHARKHAND', 'ODISHA',\n",
       "       'CHHATTISGARH', 'MADHYA PRADESH', 'GUJARAT', 'DAMAN & DIU',\n",
       "       'DADRA & NAGAR HAVELI', 'MAHARASHTRA', 'ANDHRA PRADESH',\n",
       "       'KARNATAKA', 'GOA', 'LAKSHADWEEP', 'KERALA', 'TAMIL NADU',\n",
       "       'PUDUCHERRY', 'ANDAMAN & NICOBAR ISLANDS'], dtype=object)"
      ]
     },
     "execution_count": 95,
     "metadata": {},
     "output_type": "execute_result"
    }
   ],
   "source": [
    "districts"
   ]
  },
  {
   "cell_type": "code",
   "execution_count": 96,
   "id": "4a2eaed0",
   "metadata": {
    "ExecuteTime": {
     "end_time": "2021-11-08T10:02:34.403015Z",
     "start_time": "2021-11-08T10:02:34.396373Z"
    }
   },
   "outputs": [],
   "source": [
    "def make_dist(datai, district, data18, category = \"Persons\"):\n",
    "    #datai = data13[0]\n",
    "    #print(datai[\"Unnamed: 3\"].unique())\n",
    "    #print(datai.shape)\n",
    "    #print(datai[\"Unnamed: 3\"].unique())\n",
    "    datai = datai[datai[\"Unnamed: 3\"] == district]\n",
    "    #print(datai.shape)\n",
    "    dist_age = [1]\n",
    "    stride = [5,5,5,5,5,20,20,31]\n",
    "    temp = datai[category].values\n",
    "    prev = 6\n",
    "    for i in stride:\n",
    "        dist_age.append(temp[prev:prev+i].sum())\n",
    "        #print(prev, prev+i)\n",
    "        prev = prev+i\n",
    "    dist_age.append(1)\n",
    "    data181i = data18[(data18['Unnamed: 2'] == district) ]\n",
    "    data181i['Total_Pop'] = np.array(dist_age)  \n",
    "    data181i['Ratio'] = data181i[category+'.1']/data181i['Total_Pop']\n",
    "    data181i.sort_values('Ratio', inplace = True, ascending = False)\n",
    "    return data181i.iloc[2,1], data181i.iloc[2,4]\n",
    "    "
   ]
  },
  {
   "cell_type": "code",
   "execution_count": 97,
   "id": "818458b8",
   "metadata": {
    "ExecuteTime": {
     "end_time": "2021-11-08T10:02:34.531343Z",
     "start_time": "2021-11-08T10:02:34.405171Z"
    }
   },
   "outputs": [
    {
     "name": "stderr",
     "output_type": "stream",
     "text": [
      "<ipython-input-97-6d85c8882fc7>:9: SettingWithCopyWarning: \n",
      "A value is trying to be set on a copy of a slice from a DataFrame.\n",
      "Try using .loc[row_indexer,col_indexer] = value instead\n",
      "\n",
      "See the caveats in the documentation: https://pandas.pydata.org/pandas-docs/stable/user_guide/indexing.html#returning-a-view-versus-a-copy\n",
      "  data13_new[\"Unnamed: 3\"] = data13_new[\"Unnamed: 3\"].apply(lambda x: str(x).upper() if (str(x) == \"India\") else str(x)[8:].split(\" (\")[0])\n",
      "<ipython-input-96-90061680a6f4>:18: SettingWithCopyWarning: \n",
      "A value is trying to be set on a copy of a slice from a DataFrame.\n",
      "Try using .loc[row_indexer,col_indexer] = value instead\n",
      "\n",
      "See the caveats in the documentation: https://pandas.pydata.org/pandas-docs/stable/user_guide/indexing.html#returning-a-view-versus-a-copy\n",
      "  data181i['Total_Pop'] = np.array(dist_age)\n",
      "<ipython-input-96-90061680a6f4>:19: SettingWithCopyWarning: \n",
      "A value is trying to be set on a copy of a slice from a DataFrame.\n",
      "Try using .loc[row_indexer,col_indexer] = value instead\n",
      "\n",
      "See the caveats in the documentation: https://pandas.pydata.org/pandas-docs/stable/user_guide/indexing.html#returning-a-view-versus-a-copy\n",
      "  data181i['Ratio'] = data181i[category+'.1']/data181i['Total_Pop']\n",
      "<ipython-input-96-90061680a6f4>:20: SettingWithCopyWarning: \n",
      "A value is trying to be set on a copy of a slice from a DataFrame\n",
      "\n",
      "See the caveats in the documentation: https://pandas.pydata.org/pandas-docs/stable/user_guide/indexing.html#returning-a-view-versus-a-copy\n",
      "  data181i.sort_values('Ratio', inplace = True, ascending = False)\n"
     ]
    }
   ],
   "source": [
    "final_dict = {}\n",
    "final_dict['states'] =[]\n",
    "final_dict['age-group-males'] = []\n",
    "final_dict['ratio-males'] = []\n",
    "datat = data13[0]\n",
    "data13_new = datat[['Unnamed: 3','Unnamed: 4',\"Males\"]]\n",
    "data18_new = data18[(data18['Urban'] == 'Total')]\n",
    "data18_new = data18_new[['Unnamed: 2','Unnamed: 4','Males.1']]\n",
    "data13_new[\"Unnamed: 3\"] = data13_new[\"Unnamed: 3\"].apply(lambda x: str(x).upper() if (str(x) == \"India\") else str(x)[8:].split(\" (\")[0])\n",
    "for district in districts:\n",
    "    #if district == \"INDIA\":\n",
    "    #    continue\n",
    "    #print(district)\n",
    "    a, b = make_dist(data13_new,district, data18_new, \"Males\")\n",
    "    #print(a, b,district)\n",
    "    final_dict['states'].append(district)\n",
    "    final_dict['age-group-males'].append(a)\n",
    "    final_dict['ratio-males'].append(b)\n"
   ]
  },
  {
   "cell_type": "code",
   "execution_count": 98,
   "id": "e5cc421f",
   "metadata": {
    "ExecuteTime": {
     "end_time": "2021-11-08T10:02:50.460000Z",
     "start_time": "2021-11-08T10:02:50.432085Z"
    }
   },
   "outputs": [
    {
     "data": {
      "text/html": [
       "<div>\n",
       "<style scoped>\n",
       "    .dataframe tbody tr th:only-of-type {\n",
       "        vertical-align: middle;\n",
       "    }\n",
       "\n",
       "    .dataframe tbody tr th {\n",
       "        vertical-align: top;\n",
       "    }\n",
       "\n",
       "    .dataframe thead th {\n",
       "        text-align: right;\n",
       "    }\n",
       "</style>\n",
       "<table border=\"1\" class=\"dataframe\">\n",
       "  <thead>\n",
       "    <tr style=\"text-align: right;\">\n",
       "      <th></th>\n",
       "      <th>states</th>\n",
       "      <th>age-group-males</th>\n",
       "      <th>ratio-males</th>\n",
       "    </tr>\n",
       "  </thead>\n",
       "  <tbody>\n",
       "    <tr>\n",
       "      <th>0</th>\n",
       "      <td>INDIA</td>\n",
       "      <td>20-24</td>\n",
       "      <td>0.122734</td>\n",
       "    </tr>\n",
       "    <tr>\n",
       "      <th>1</th>\n",
       "      <td>JAMMU &amp; KASHMIR</td>\n",
       "      <td>20-24</td>\n",
       "      <td>0.317513</td>\n",
       "    </tr>\n",
       "    <tr>\n",
       "      <th>2</th>\n",
       "      <td>HIMACHAL PRADESH</td>\n",
       "      <td>20-24</td>\n",
       "      <td>0.083464</td>\n",
       "    </tr>\n",
       "    <tr>\n",
       "      <th>3</th>\n",
       "      <td>PUNJAB</td>\n",
       "      <td>15-19</td>\n",
       "      <td>0.446176</td>\n",
       "    </tr>\n",
       "    <tr>\n",
       "      <th>4</th>\n",
       "      <td>CHANDIGARH</td>\n",
       "      <td>70+</td>\n",
       "      <td>0.538880</td>\n",
       "    </tr>\n",
       "    <tr>\n",
       "      <th>5</th>\n",
       "      <td>UTTARAKHAND</td>\n",
       "      <td>20-24</td>\n",
       "      <td>0.034273</td>\n",
       "    </tr>\n",
       "    <tr>\n",
       "      <th>6</th>\n",
       "      <td>HARYANA</td>\n",
       "      <td>20-24</td>\n",
       "      <td>0.073585</td>\n",
       "    </tr>\n",
       "    <tr>\n",
       "      <th>7</th>\n",
       "      <td>NCT OF DELHI</td>\n",
       "      <td>70+</td>\n",
       "      <td>0.203584</td>\n",
       "    </tr>\n",
       "    <tr>\n",
       "      <th>8</th>\n",
       "      <td>RAJASTHAN</td>\n",
       "      <td>20-24</td>\n",
       "      <td>0.032170</td>\n",
       "    </tr>\n",
       "    <tr>\n",
       "      <th>9</th>\n",
       "      <td>UTTAR PRADESH</td>\n",
       "      <td>20-24</td>\n",
       "      <td>0.025913</td>\n",
       "    </tr>\n",
       "    <tr>\n",
       "      <th>10</th>\n",
       "      <td>BIHAR</td>\n",
       "      <td>20-24</td>\n",
       "      <td>0.031443</td>\n",
       "    </tr>\n",
       "    <tr>\n",
       "      <th>11</th>\n",
       "      <td>SIKKIM</td>\n",
       "      <td>15-19</td>\n",
       "      <td>0.437026</td>\n",
       "    </tr>\n",
       "    <tr>\n",
       "      <th>12</th>\n",
       "      <td>ARUNACHAL PRADESH</td>\n",
       "      <td>15-19</td>\n",
       "      <td>0.480533</td>\n",
       "    </tr>\n",
       "    <tr>\n",
       "      <th>13</th>\n",
       "      <td>NAGALAND</td>\n",
       "      <td>25-29</td>\n",
       "      <td>0.421940</td>\n",
       "    </tr>\n",
       "    <tr>\n",
       "      <th>14</th>\n",
       "      <td>MANIPUR</td>\n",
       "      <td>30-49</td>\n",
       "      <td>0.352224</td>\n",
       "    </tr>\n",
       "    <tr>\n",
       "      <th>15</th>\n",
       "      <td>MIZORAM</td>\n",
       "      <td>30-49</td>\n",
       "      <td>0.101009</td>\n",
       "    </tr>\n",
       "    <tr>\n",
       "      <th>16</th>\n",
       "      <td>TRIPURA</td>\n",
       "      <td>25-29</td>\n",
       "      <td>0.100840</td>\n",
       "    </tr>\n",
       "    <tr>\n",
       "      <th>17</th>\n",
       "      <td>MEGHALAYA</td>\n",
       "      <td>30-49</td>\n",
       "      <td>0.183675</td>\n",
       "    </tr>\n",
       "    <tr>\n",
       "      <th>18</th>\n",
       "      <td>ASSAM</td>\n",
       "      <td>30-49</td>\n",
       "      <td>0.239542</td>\n",
       "    </tr>\n",
       "    <tr>\n",
       "      <th>19</th>\n",
       "      <td>WEST BENGAL</td>\n",
       "      <td>50-69</td>\n",
       "      <td>0.060462</td>\n",
       "    </tr>\n",
       "    <tr>\n",
       "      <th>20</th>\n",
       "      <td>JHARKHAND</td>\n",
       "      <td>20-24</td>\n",
       "      <td>0.083440</td>\n",
       "    </tr>\n",
       "    <tr>\n",
       "      <th>21</th>\n",
       "      <td>ODISHA</td>\n",
       "      <td>20-24</td>\n",
       "      <td>0.249141</td>\n",
       "    </tr>\n",
       "    <tr>\n",
       "      <th>22</th>\n",
       "      <td>CHHATTISGARH</td>\n",
       "      <td>30-49</td>\n",
       "      <td>0.026553</td>\n",
       "    </tr>\n",
       "    <tr>\n",
       "      <th>23</th>\n",
       "      <td>MADHYA PRADESH</td>\n",
       "      <td>20-24</td>\n",
       "      <td>0.031203</td>\n",
       "    </tr>\n",
       "    <tr>\n",
       "      <th>24</th>\n",
       "      <td>GUJARAT</td>\n",
       "      <td>15-19</td>\n",
       "      <td>0.258126</td>\n",
       "    </tr>\n",
       "    <tr>\n",
       "      <th>25</th>\n",
       "      <td>DAMAN &amp; DIU</td>\n",
       "      <td>50-69</td>\n",
       "      <td>0.223430</td>\n",
       "    </tr>\n",
       "    <tr>\n",
       "      <th>26</th>\n",
       "      <td>DADRA &amp; NAGAR HAVELI</td>\n",
       "      <td>10-14</td>\n",
       "      <td>0.329725</td>\n",
       "    </tr>\n",
       "    <tr>\n",
       "      <th>27</th>\n",
       "      <td>MAHARASHTRA</td>\n",
       "      <td>20-24</td>\n",
       "      <td>0.285348</td>\n",
       "    </tr>\n",
       "    <tr>\n",
       "      <th>28</th>\n",
       "      <td>ANDHRA PRADESH</td>\n",
       "      <td>20-24</td>\n",
       "      <td>0.143784</td>\n",
       "    </tr>\n",
       "    <tr>\n",
       "      <th>29</th>\n",
       "      <td>KARNATAKA</td>\n",
       "      <td>25-29</td>\n",
       "      <td>0.193887</td>\n",
       "    </tr>\n",
       "    <tr>\n",
       "      <th>30</th>\n",
       "      <td>GOA</td>\n",
       "      <td>15-19</td>\n",
       "      <td>0.662455</td>\n",
       "    </tr>\n",
       "    <tr>\n",
       "      <th>31</th>\n",
       "      <td>LAKSHADWEEP</td>\n",
       "      <td>25-29</td>\n",
       "      <td>0.266986</td>\n",
       "    </tr>\n",
       "    <tr>\n",
       "      <th>32</th>\n",
       "      <td>KERALA</td>\n",
       "      <td>20-24</td>\n",
       "      <td>0.167393</td>\n",
       "    </tr>\n",
       "    <tr>\n",
       "      <th>33</th>\n",
       "      <td>TAMIL NADU</td>\n",
       "      <td>25-29</td>\n",
       "      <td>0.048127</td>\n",
       "    </tr>\n",
       "    <tr>\n",
       "      <th>34</th>\n",
       "      <td>PUDUCHERRY</td>\n",
       "      <td>50-69</td>\n",
       "      <td>0.097906</td>\n",
       "    </tr>\n",
       "    <tr>\n",
       "      <th>35</th>\n",
       "      <td>ANDAMAN &amp; NICOBAR ISLANDS</td>\n",
       "      <td>15-19</td>\n",
       "      <td>0.277134</td>\n",
       "    </tr>\n",
       "  </tbody>\n",
       "</table>\n",
       "</div>"
      ],
      "text/plain": [
       "                       states age-group-males  ratio-males\n",
       "0                       INDIA           20-24     0.122734\n",
       "1             JAMMU & KASHMIR           20-24     0.317513\n",
       "2            HIMACHAL PRADESH           20-24     0.083464\n",
       "3                      PUNJAB           15-19     0.446176\n",
       "4                  CHANDIGARH             70+     0.538880\n",
       "5                 UTTARAKHAND           20-24     0.034273\n",
       "6                     HARYANA           20-24     0.073585\n",
       "7                NCT OF DELHI             70+     0.203584\n",
       "8                   RAJASTHAN           20-24     0.032170\n",
       "9               UTTAR PRADESH           20-24     0.025913\n",
       "10                      BIHAR           20-24     0.031443\n",
       "11                     SIKKIM           15-19     0.437026\n",
       "12          ARUNACHAL PRADESH           15-19     0.480533\n",
       "13                   NAGALAND           25-29     0.421940\n",
       "14                    MANIPUR           30-49     0.352224\n",
       "15                    MIZORAM           30-49     0.101009\n",
       "16                    TRIPURA           25-29     0.100840\n",
       "17                  MEGHALAYA           30-49     0.183675\n",
       "18                      ASSAM           30-49     0.239542\n",
       "19                WEST BENGAL           50-69     0.060462\n",
       "20                  JHARKHAND           20-24     0.083440\n",
       "21                     ODISHA           20-24     0.249141\n",
       "22               CHHATTISGARH           30-49     0.026553\n",
       "23             MADHYA PRADESH           20-24     0.031203\n",
       "24                    GUJARAT           15-19     0.258126\n",
       "25                DAMAN & DIU           50-69     0.223430\n",
       "26       DADRA & NAGAR HAVELI           10-14     0.329725\n",
       "27                MAHARASHTRA           20-24     0.285348\n",
       "28             ANDHRA PRADESH           20-24     0.143784\n",
       "29                  KARNATAKA           25-29     0.193887\n",
       "30                        GOA           15-19     0.662455\n",
       "31                LAKSHADWEEP           25-29     0.266986\n",
       "32                     KERALA           20-24     0.167393\n",
       "33                 TAMIL NADU           25-29     0.048127\n",
       "34                 PUDUCHERRY           50-69     0.097906\n",
       "35  ANDAMAN & NICOBAR ISLANDS           15-19     0.277134"
      ]
     },
     "execution_count": 98,
     "metadata": {},
     "output_type": "execute_result"
    }
   ],
   "source": [
    "final_dict_dfm2 = pd.DataFrame(final_dict)\n",
    "final_dict_dfm2.head(50)"
   ]
  },
  {
   "cell_type": "code",
   "execution_count": 99,
   "id": "0c51f789",
   "metadata": {
    "ExecuteTime": {
     "end_time": "2021-11-08T10:02:50.579469Z",
     "start_time": "2021-11-08T10:02:50.462197Z"
    }
   },
   "outputs": [
    {
     "name": "stderr",
     "output_type": "stream",
     "text": [
      "<ipython-input-99-eb3918b038fc>:10: SettingWithCopyWarning: \n",
      "A value is trying to be set on a copy of a slice from a DataFrame.\n",
      "Try using .loc[row_indexer,col_indexer] = value instead\n",
      "\n",
      "See the caveats in the documentation: https://pandas.pydata.org/pandas-docs/stable/user_guide/indexing.html#returning-a-view-versus-a-copy\n",
      "  data13_new[\"Unnamed: 3\"] = data13_new[\"Unnamed: 3\"].apply(lambda x: str(x).upper() if (str(x) == \"India\") else str(x)[8:].split(\" (\")[0])\n",
      "<ipython-input-96-90061680a6f4>:18: SettingWithCopyWarning: \n",
      "A value is trying to be set on a copy of a slice from a DataFrame.\n",
      "Try using .loc[row_indexer,col_indexer] = value instead\n",
      "\n",
      "See the caveats in the documentation: https://pandas.pydata.org/pandas-docs/stable/user_guide/indexing.html#returning-a-view-versus-a-copy\n",
      "  data181i['Total_Pop'] = np.array(dist_age)\n",
      "<ipython-input-96-90061680a6f4>:19: SettingWithCopyWarning: \n",
      "A value is trying to be set on a copy of a slice from a DataFrame.\n",
      "Try using .loc[row_indexer,col_indexer] = value instead\n",
      "\n",
      "See the caveats in the documentation: https://pandas.pydata.org/pandas-docs/stable/user_guide/indexing.html#returning-a-view-versus-a-copy\n",
      "  data181i['Ratio'] = data181i[category+'.1']/data181i['Total_Pop']\n",
      "<ipython-input-96-90061680a6f4>:20: SettingWithCopyWarning: \n",
      "A value is trying to be set on a copy of a slice from a DataFrame\n",
      "\n",
      "See the caveats in the documentation: https://pandas.pydata.org/pandas-docs/stable/user_guide/indexing.html#returning-a-view-versus-a-copy\n",
      "  data181i.sort_values('Ratio', inplace = True, ascending = False)\n"
     ]
    }
   ],
   "source": [
    "#females\n",
    "final_dict = {}\n",
    "final_dict['states'] =[]\n",
    "final_dict['age-group-females'] = []\n",
    "final_dict['ratio-females'] = []\n",
    "datat = data13[0]\n",
    "data13_new = datat[['Unnamed: 3','Unnamed: 4',\"Females\"]]\n",
    "data18_new = data18[(data18['Urban'] == 'Total')]\n",
    "data18_new = data18_new[['Unnamed: 2','Unnamed: 4','Females.1']]\n",
    "data13_new[\"Unnamed: 3\"] = data13_new[\"Unnamed: 3\"].apply(lambda x: str(x).upper() if (str(x) == \"India\") else str(x)[8:].split(\" (\")[0])\n",
    "for district in districts:\n",
    "    #if district == \"INDIA\":\n",
    "    #    continue\n",
    "    #print(district)\n",
    "    a, b = make_dist(data13_new,district, data18_new, \"Females\")\n",
    "    #print(a, b,district)\n",
    "    final_dict['states'].append(district)\n",
    "    final_dict['age-group-females'].append(a)\n",
    "    final_dict['ratio-females'].append(b)\n"
   ]
  },
  {
   "cell_type": "code",
   "execution_count": 100,
   "id": "981c79f9",
   "metadata": {
    "ExecuteTime": {
     "end_time": "2021-11-08T10:02:50.598636Z",
     "start_time": "2021-11-08T10:02:50.580466Z"
    }
   },
   "outputs": [
    {
     "data": {
      "text/html": [
       "<div>\n",
       "<style scoped>\n",
       "    .dataframe tbody tr th:only-of-type {\n",
       "        vertical-align: middle;\n",
       "    }\n",
       "\n",
       "    .dataframe tbody tr th {\n",
       "        vertical-align: top;\n",
       "    }\n",
       "\n",
       "    .dataframe thead th {\n",
       "        text-align: right;\n",
       "    }\n",
       "</style>\n",
       "<table border=\"1\" class=\"dataframe\">\n",
       "  <thead>\n",
       "    <tr style=\"text-align: right;\">\n",
       "      <th></th>\n",
       "      <th>states</th>\n",
       "      <th>age-group-females</th>\n",
       "      <th>ratio-females</th>\n",
       "    </tr>\n",
       "  </thead>\n",
       "  <tbody>\n",
       "    <tr>\n",
       "      <th>0</th>\n",
       "      <td>INDIA</td>\n",
       "      <td>20-24</td>\n",
       "      <td>0.107109</td>\n",
       "    </tr>\n",
       "    <tr>\n",
       "      <th>1</th>\n",
       "      <td>JAMMU &amp; KASHMIR</td>\n",
       "      <td>20-24</td>\n",
       "      <td>0.272289</td>\n",
       "    </tr>\n",
       "    <tr>\n",
       "      <th>2</th>\n",
       "      <td>HIMACHAL PRADESH</td>\n",
       "      <td>15-19</td>\n",
       "      <td>0.080732</td>\n",
       "    </tr>\n",
       "    <tr>\n",
       "      <th>3</th>\n",
       "      <td>PUNJAB</td>\n",
       "      <td>15-19</td>\n",
       "      <td>0.472069</td>\n",
       "    </tr>\n",
       "    <tr>\n",
       "      <th>4</th>\n",
       "      <td>CHANDIGARH</td>\n",
       "      <td>15-19</td>\n",
       "      <td>0.424175</td>\n",
       "    </tr>\n",
       "    <tr>\n",
       "      <th>5</th>\n",
       "      <td>UTTARAKHAND</td>\n",
       "      <td>20-24</td>\n",
       "      <td>0.027630</td>\n",
       "    </tr>\n",
       "    <tr>\n",
       "      <th>6</th>\n",
       "      <td>HARYANA</td>\n",
       "      <td>15-19</td>\n",
       "      <td>0.073951</td>\n",
       "    </tr>\n",
       "    <tr>\n",
       "      <th>7</th>\n",
       "      <td>NCT OF DELHI</td>\n",
       "      <td>50-69</td>\n",
       "      <td>0.120097</td>\n",
       "    </tr>\n",
       "    <tr>\n",
       "      <th>8</th>\n",
       "      <td>RAJASTHAN</td>\n",
       "      <td>15-19</td>\n",
       "      <td>0.025576</td>\n",
       "    </tr>\n",
       "    <tr>\n",
       "      <th>9</th>\n",
       "      <td>UTTAR PRADESH</td>\n",
       "      <td>20-24</td>\n",
       "      <td>0.022732</td>\n",
       "    </tr>\n",
       "    <tr>\n",
       "      <th>10</th>\n",
       "      <td>BIHAR</td>\n",
       "      <td>15-19</td>\n",
       "      <td>0.028679</td>\n",
       "    </tr>\n",
       "    <tr>\n",
       "      <th>11</th>\n",
       "      <td>SIKKIM</td>\n",
       "      <td>15-19</td>\n",
       "      <td>0.479614</td>\n",
       "    </tr>\n",
       "    <tr>\n",
       "      <th>12</th>\n",
       "      <td>ARUNACHAL PRADESH</td>\n",
       "      <td>15-19</td>\n",
       "      <td>0.471169</td>\n",
       "    </tr>\n",
       "    <tr>\n",
       "      <th>13</th>\n",
       "      <td>NAGALAND</td>\n",
       "      <td>20-24</td>\n",
       "      <td>0.390252</td>\n",
       "    </tr>\n",
       "    <tr>\n",
       "      <th>14</th>\n",
       "      <td>MANIPUR</td>\n",
       "      <td>20-24</td>\n",
       "      <td>0.291086</td>\n",
       "    </tr>\n",
       "    <tr>\n",
       "      <th>15</th>\n",
       "      <td>MIZORAM</td>\n",
       "      <td>25-29</td>\n",
       "      <td>0.056303</td>\n",
       "    </tr>\n",
       "    <tr>\n",
       "      <th>16</th>\n",
       "      <td>TRIPURA</td>\n",
       "      <td>20-24</td>\n",
       "      <td>0.065508</td>\n",
       "    </tr>\n",
       "    <tr>\n",
       "      <th>17</th>\n",
       "      <td>MEGHALAYA</td>\n",
       "      <td>20-24</td>\n",
       "      <td>0.128277</td>\n",
       "    </tr>\n",
       "    <tr>\n",
       "      <th>18</th>\n",
       "      <td>ASSAM</td>\n",
       "      <td>15-19</td>\n",
       "      <td>0.185952</td>\n",
       "    </tr>\n",
       "    <tr>\n",
       "      <th>19</th>\n",
       "      <td>WEST BENGAL</td>\n",
       "      <td>20-24</td>\n",
       "      <td>0.037846</td>\n",
       "    </tr>\n",
       "    <tr>\n",
       "      <th>20</th>\n",
       "      <td>JHARKHAND</td>\n",
       "      <td>15-19</td>\n",
       "      <td>0.069338</td>\n",
       "    </tr>\n",
       "    <tr>\n",
       "      <th>21</th>\n",
       "      <td>ODISHA</td>\n",
       "      <td>15-19</td>\n",
       "      <td>0.210129</td>\n",
       "    </tr>\n",
       "    <tr>\n",
       "      <th>22</th>\n",
       "      <td>CHHATTISGARH</td>\n",
       "      <td>20-24</td>\n",
       "      <td>0.020936</td>\n",
       "    </tr>\n",
       "    <tr>\n",
       "      <th>23</th>\n",
       "      <td>MADHYA PRADESH</td>\n",
       "      <td>15-19</td>\n",
       "      <td>0.028724</td>\n",
       "    </tr>\n",
       "    <tr>\n",
       "      <th>24</th>\n",
       "      <td>GUJARAT</td>\n",
       "      <td>15-19</td>\n",
       "      <td>0.218742</td>\n",
       "    </tr>\n",
       "    <tr>\n",
       "      <th>25</th>\n",
       "      <td>DAMAN &amp; DIU</td>\n",
       "      <td>15-19</td>\n",
       "      <td>0.259195</td>\n",
       "    </tr>\n",
       "    <tr>\n",
       "      <th>26</th>\n",
       "      <td>DADRA &amp; NAGAR HAVELI</td>\n",
       "      <td>15-19</td>\n",
       "      <td>0.358171</td>\n",
       "    </tr>\n",
       "    <tr>\n",
       "      <th>27</th>\n",
       "      <td>MAHARASHTRA</td>\n",
       "      <td>15-19</td>\n",
       "      <td>0.262631</td>\n",
       "    </tr>\n",
       "    <tr>\n",
       "      <th>28</th>\n",
       "      <td>ANDHRA PRADESH</td>\n",
       "      <td>15-19</td>\n",
       "      <td>0.127302</td>\n",
       "    </tr>\n",
       "    <tr>\n",
       "      <th>29</th>\n",
       "      <td>KARNATAKA</td>\n",
       "      <td>20-24</td>\n",
       "      <td>0.166122</td>\n",
       "    </tr>\n",
       "    <tr>\n",
       "      <th>30</th>\n",
       "      <td>GOA</td>\n",
       "      <td>15-19</td>\n",
       "      <td>0.701468</td>\n",
       "    </tr>\n",
       "    <tr>\n",
       "      <th>31</th>\n",
       "      <td>LAKSHADWEEP</td>\n",
       "      <td>20-24</td>\n",
       "      <td>0.257070</td>\n",
       "    </tr>\n",
       "    <tr>\n",
       "      <th>32</th>\n",
       "      <td>KERALA</td>\n",
       "      <td>20-24</td>\n",
       "      <td>0.171422</td>\n",
       "    </tr>\n",
       "    <tr>\n",
       "      <th>33</th>\n",
       "      <td>TAMIL NADU</td>\n",
       "      <td>20-24</td>\n",
       "      <td>0.043725</td>\n",
       "    </tr>\n",
       "    <tr>\n",
       "      <th>34</th>\n",
       "      <td>PUDUCHERRY</td>\n",
       "      <td>20-24</td>\n",
       "      <td>0.077331</td>\n",
       "    </tr>\n",
       "    <tr>\n",
       "      <th>35</th>\n",
       "      <td>ANDAMAN &amp; NICOBAR ISLANDS</td>\n",
       "      <td>15-19</td>\n",
       "      <td>0.298794</td>\n",
       "    </tr>\n",
       "  </tbody>\n",
       "</table>\n",
       "</div>"
      ],
      "text/plain": [
       "                       states age-group-females  ratio-females\n",
       "0                       INDIA             20-24       0.107109\n",
       "1             JAMMU & KASHMIR             20-24       0.272289\n",
       "2            HIMACHAL PRADESH             15-19       0.080732\n",
       "3                      PUNJAB             15-19       0.472069\n",
       "4                  CHANDIGARH             15-19       0.424175\n",
       "5                 UTTARAKHAND             20-24       0.027630\n",
       "6                     HARYANA             15-19       0.073951\n",
       "7                NCT OF DELHI             50-69       0.120097\n",
       "8                   RAJASTHAN             15-19       0.025576\n",
       "9               UTTAR PRADESH             20-24       0.022732\n",
       "10                      BIHAR             15-19       0.028679\n",
       "11                     SIKKIM             15-19       0.479614\n",
       "12          ARUNACHAL PRADESH             15-19       0.471169\n",
       "13                   NAGALAND             20-24       0.390252\n",
       "14                    MANIPUR             20-24       0.291086\n",
       "15                    MIZORAM             25-29       0.056303\n",
       "16                    TRIPURA             20-24       0.065508\n",
       "17                  MEGHALAYA             20-24       0.128277\n",
       "18                      ASSAM             15-19       0.185952\n",
       "19                WEST BENGAL             20-24       0.037846\n",
       "20                  JHARKHAND             15-19       0.069338\n",
       "21                     ODISHA             15-19       0.210129\n",
       "22               CHHATTISGARH             20-24       0.020936\n",
       "23             MADHYA PRADESH             15-19       0.028724\n",
       "24                    GUJARAT             15-19       0.218742\n",
       "25                DAMAN & DIU             15-19       0.259195\n",
       "26       DADRA & NAGAR HAVELI             15-19       0.358171\n",
       "27                MAHARASHTRA             15-19       0.262631\n",
       "28             ANDHRA PRADESH             15-19       0.127302\n",
       "29                  KARNATAKA             20-24       0.166122\n",
       "30                        GOA             15-19       0.701468\n",
       "31                LAKSHADWEEP             20-24       0.257070\n",
       "32                     KERALA             20-24       0.171422\n",
       "33                 TAMIL NADU             20-24       0.043725\n",
       "34                 PUDUCHERRY             20-24       0.077331\n",
       "35  ANDAMAN & NICOBAR ISLANDS             15-19       0.298794"
      ]
     },
     "execution_count": 100,
     "metadata": {},
     "output_type": "execute_result"
    }
   ],
   "source": [
    "final_dict_dff2 = pd.DataFrame(final_dict)\n",
    "final_dict_dff2.head(50)"
   ]
  },
  {
   "cell_type": "code",
   "execution_count": 101,
   "id": "61e09dd6",
   "metadata": {
    "ExecuteTime": {
     "end_time": "2021-11-08T10:02:50.630580Z",
     "start_time": "2021-11-08T10:02:50.599964Z"
    }
   },
   "outputs": [],
   "source": [
    "final_data = pd.merge(final_dict_dfm2, final_dict_dff2, how = 'outer', right_on = 'states', left_on = 'states')"
   ]
  },
  {
   "cell_type": "code",
   "execution_count": 102,
   "id": "f4f5b63b",
   "metadata": {
    "ExecuteTime": {
     "end_time": "2021-11-08T10:02:50.646399Z",
     "start_time": "2021-11-08T10:02:50.634451Z"
    }
   },
   "outputs": [],
   "source": [
    "final_data.to_csv(\"age-gender-3.csv\")"
   ]
  },
  {
   "cell_type": "code",
   "execution_count": 103,
   "id": "2d219e2b",
   "metadata": {
    "ExecuteTime": {
     "end_time": "2021-11-08T10:02:50.662838Z",
     "start_time": "2021-11-08T10:02:50.649416Z"
    }
   },
   "outputs": [],
   "source": [
    "#c19 ==> eduacation level and speaking lang\n",
    "#c18 ==>    age group and lang"
   ]
  },
  {
   "cell_type": "code",
   "execution_count": 104,
   "id": "b18ea2c2",
   "metadata": {
    "ExecuteTime": {
     "end_time": "2021-11-08T10:02:50.678055Z",
     "start_time": "2021-11-08T10:02:50.666632Z"
    }
   },
   "outputs": [],
   "source": [
    "#bi"
   ]
  },
  {
   "cell_type": "code",
   "execution_count": 105,
   "id": "51509c39",
   "metadata": {
    "ExecuteTime": {
     "end_time": "2021-11-08T10:02:50.694224Z",
     "start_time": "2021-11-08T10:02:50.680362Z"
    }
   },
   "outputs": [],
   "source": [
    "def make_dist_bilingual(datai, district, data18, category = \"Persons\"):\n",
    "    #datai = data13[0]\\\n",
    "    #print(datai[\"Unnamed: 3\"].unique())\n",
    "    \n",
    "    #print(datai.shape)\n",
    "    #print(datai[\"Unnamed: 3\"].unique())\n",
    "    datai = datai[datai[\"Unnamed: 3\"] == district]\n",
    "    #print(datai.shape)\n",
    "    dist_age = [1]\n",
    "    stride = [5,5,5,5,5,20,20,31]\n",
    "    temp = datai[category].values\n",
    "    prev = 6\n",
    "    for i in stride:\n",
    "        dist_age.append(temp[prev:prev+i].sum())\n",
    "        #print(prev, prev+i)\n",
    "        prev = prev+i\n",
    "    dist_age.append(1)\n",
    "    data181i = data18[(data18['Unnamed: 2'] == district) ]\n",
    "    data181i['Total_Pop'] = np.array(dist_age)  \n",
    "    data181i['Ratio'] = (data181i[category] - data181i[category+'.1'])/data181i['Total_Pop']\n",
    "    data181i.sort_values('Ratio', inplace = True, ascending = False)\n",
    "    #print(data181i.columns)\n",
    "    return data181i.iloc[2,1], data181i.iloc[2,5]\n",
    "    "
   ]
  },
  {
   "cell_type": "code",
   "execution_count": 106,
   "id": "a9fd38f7",
   "metadata": {
    "ExecuteTime": {
     "end_time": "2021-11-08T10:02:50.836840Z",
     "start_time": "2021-11-08T10:02:50.696121Z"
    }
   },
   "outputs": [
    {
     "name": "stderr",
     "output_type": "stream",
     "text": [
      "<ipython-input-106-4dc3dfca3cb3>:10: SettingWithCopyWarning: \n",
      "A value is trying to be set on a copy of a slice from a DataFrame.\n",
      "Try using .loc[row_indexer,col_indexer] = value instead\n",
      "\n",
      "See the caveats in the documentation: https://pandas.pydata.org/pandas-docs/stable/user_guide/indexing.html#returning-a-view-versus-a-copy\n",
      "  data13_new[\"Unnamed: 3\"] = data13_new[\"Unnamed: 3\"].apply(lambda x: str(x).upper() if (str(x) == \"India\") else str(x)[8:].split(\" (\")[0])\n",
      "<ipython-input-105-c4084ff7f8f4>:19: SettingWithCopyWarning: \n",
      "A value is trying to be set on a copy of a slice from a DataFrame.\n",
      "Try using .loc[row_indexer,col_indexer] = value instead\n",
      "\n",
      "See the caveats in the documentation: https://pandas.pydata.org/pandas-docs/stable/user_guide/indexing.html#returning-a-view-versus-a-copy\n",
      "  data181i['Total_Pop'] = np.array(dist_age)\n",
      "<ipython-input-105-c4084ff7f8f4>:20: SettingWithCopyWarning: \n",
      "A value is trying to be set on a copy of a slice from a DataFrame.\n",
      "Try using .loc[row_indexer,col_indexer] = value instead\n",
      "\n",
      "See the caveats in the documentation: https://pandas.pydata.org/pandas-docs/stable/user_guide/indexing.html#returning-a-view-versus-a-copy\n",
      "  data181i['Ratio'] = (data181i[category] - data181i[category+'.1'])/data181i['Total_Pop']\n",
      "<ipython-input-105-c4084ff7f8f4>:21: SettingWithCopyWarning: \n",
      "A value is trying to be set on a copy of a slice from a DataFrame\n",
      "\n",
      "See the caveats in the documentation: https://pandas.pydata.org/pandas-docs/stable/user_guide/indexing.html#returning-a-view-versus-a-copy\n",
      "  data181i.sort_values('Ratio', inplace = True, ascending = False)\n"
     ]
    }
   ],
   "source": [
    "final_dict = {}\n",
    "final_dict['states'] =[]\n",
    "final_dict['age-group-males'] = []\n",
    "final_dict['ratio-males'] = []\n",
    "datat = data13[0]\n",
    "data13_new = datat[['Unnamed: 3','Unnamed: 4',\"Males\"]]    # total population\n",
    "data18_new = data18[(data18['Urban'] == 'Total')]\n",
    "data18_new = data18_new[['Unnamed: 2','Unnamed: 4','Males.1', 'Males']]\n",
    "\n",
    "data13_new[\"Unnamed: 3\"] = data13_new[\"Unnamed: 3\"].apply(lambda x: str(x).upper() if (str(x) == \"India\") else str(x)[8:].split(\" (\")[0])\n",
    "for district in districts:\n",
    "    #if district == \"INDIA\":\n",
    "    #    continue\n",
    "    #print(district)\n",
    "    a, b = make_dist_bilingual(data13_new,district, data18_new, \"Males\")\n",
    "    #print(a, b,district)\n",
    "    final_dict['states'].append(district)\n",
    "    final_dict['age-group-males'].append(a)\n",
    "    final_dict['ratio-males'].append(b)\n"
   ]
  },
  {
   "cell_type": "code",
   "execution_count": 107,
   "id": "78604870",
   "metadata": {
    "ExecuteTime": {
     "end_time": "2021-11-08T10:02:56.319658Z",
     "start_time": "2021-11-08T10:02:56.296219Z"
    }
   },
   "outputs": [
    {
     "data": {
      "text/html": [
       "<div>\n",
       "<style scoped>\n",
       "    .dataframe tbody tr th:only-of-type {\n",
       "        vertical-align: middle;\n",
       "    }\n",
       "\n",
       "    .dataframe tbody tr th {\n",
       "        vertical-align: top;\n",
       "    }\n",
       "\n",
       "    .dataframe thead th {\n",
       "        text-align: right;\n",
       "    }\n",
       "</style>\n",
       "<table border=\"1\" class=\"dataframe\">\n",
       "  <thead>\n",
       "    <tr style=\"text-align: right;\">\n",
       "      <th></th>\n",
       "      <th>states</th>\n",
       "      <th>age-group-males</th>\n",
       "      <th>ratio-males</th>\n",
       "    </tr>\n",
       "  </thead>\n",
       "  <tbody>\n",
       "    <tr>\n",
       "      <th>0</th>\n",
       "      <td>INDIA</td>\n",
       "      <td>20-24</td>\n",
       "      <td>0.266027</td>\n",
       "    </tr>\n",
       "    <tr>\n",
       "      <th>1</th>\n",
       "      <td>JAMMU &amp; KASHMIR</td>\n",
       "      <td>10-14</td>\n",
       "      <td>0.491022</td>\n",
       "    </tr>\n",
       "    <tr>\n",
       "      <th>2</th>\n",
       "      <td>HIMACHAL PRADESH</td>\n",
       "      <td>25-29</td>\n",
       "      <td>0.168465</td>\n",
       "    </tr>\n",
       "    <tr>\n",
       "      <th>3</th>\n",
       "      <td>PUNJAB</td>\n",
       "      <td>10-14</td>\n",
       "      <td>0.264767</td>\n",
       "    </tr>\n",
       "    <tr>\n",
       "      <th>4</th>\n",
       "      <td>CHANDIGARH</td>\n",
       "      <td>30-49</td>\n",
       "      <td>0.289201</td>\n",
       "    </tr>\n",
       "  </tbody>\n",
       "</table>\n",
       "</div>"
      ],
      "text/plain": [
       "             states age-group-males  ratio-males\n",
       "0             INDIA           20-24     0.266027\n",
       "1   JAMMU & KASHMIR           10-14     0.491022\n",
       "2  HIMACHAL PRADESH           25-29     0.168465\n",
       "3            PUNJAB           10-14     0.264767\n",
       "4        CHANDIGARH           30-49     0.289201"
      ]
     },
     "execution_count": 107,
     "metadata": {},
     "output_type": "execute_result"
    }
   ],
   "source": [
    "final_dict_dfm1 = pd.DataFrame(final_dict)\n",
    "final_dict_dfm1.head()"
   ]
  },
  {
   "cell_type": "code",
   "execution_count": 108,
   "id": "20ed08e8",
   "metadata": {
    "ExecuteTime": {
     "end_time": "2021-11-08T10:02:56.368368Z",
     "start_time": "2021-11-08T10:02:56.322235Z"
    }
   },
   "outputs": [
    {
     "name": "stderr",
     "output_type": "stream",
     "text": [
      "<ipython-input-108-5893ed841f02>:10: SettingWithCopyWarning: \n",
      "A value is trying to be set on a copy of a slice from a DataFrame.\n",
      "Try using .loc[row_indexer,col_indexer] = value instead\n",
      "\n",
      "See the caveats in the documentation: https://pandas.pydata.org/pandas-docs/stable/user_guide/indexing.html#returning-a-view-versus-a-copy\n",
      "  data13_new[\"Unnamed: 3\"] = data13_new[\"Unnamed: 3\"].apply(lambda x: str(x).upper() if (str(x) == \"India\") else str(x)[8:].split(\" (\")[0])\n",
      "<ipython-input-105-c4084ff7f8f4>:19: SettingWithCopyWarning: \n",
      "A value is trying to be set on a copy of a slice from a DataFrame.\n",
      "Try using .loc[row_indexer,col_indexer] = value instead\n",
      "\n",
      "See the caveats in the documentation: https://pandas.pydata.org/pandas-docs/stable/user_guide/indexing.html#returning-a-view-versus-a-copy\n",
      "  data181i['Total_Pop'] = np.array(dist_age)\n",
      "<ipython-input-105-c4084ff7f8f4>:20: SettingWithCopyWarning: \n",
      "A value is trying to be set on a copy of a slice from a DataFrame.\n",
      "Try using .loc[row_indexer,col_indexer] = value instead\n",
      "\n",
      "See the caveats in the documentation: https://pandas.pydata.org/pandas-docs/stable/user_guide/indexing.html#returning-a-view-versus-a-copy\n",
      "  data181i['Ratio'] = (data181i[category] - data181i[category+'.1'])/data181i['Total_Pop']\n",
      "<ipython-input-105-c4084ff7f8f4>:21: SettingWithCopyWarning: \n",
      "A value is trying to be set on a copy of a slice from a DataFrame\n",
      "\n",
      "See the caveats in the documentation: https://pandas.pydata.org/pandas-docs/stable/user_guide/indexing.html#returning-a-view-versus-a-copy\n",
      "  data181i.sort_values('Ratio', inplace = True, ascending = False)\n"
     ]
    },
    {
     "ename": "KeyError",
     "evalue": "'States'",
     "output_type": "error",
     "traceback": [
      "\u001b[1;31m---------------------------------------------------------------------------\u001b[0m",
      "\u001b[1;31mKeyError\u001b[0m                                  Traceback (most recent call last)",
      "\u001b[1;32m<ipython-input-108-5893ed841f02>\u001b[0m in \u001b[0;36m<module>\u001b[1;34m\u001b[0m\n\u001b[0;32m     15\u001b[0m     \u001b[0ma\u001b[0m\u001b[1;33m,\u001b[0m \u001b[0mb\u001b[0m \u001b[1;33m=\u001b[0m \u001b[0mmake_dist_bilingual\u001b[0m\u001b[1;33m(\u001b[0m\u001b[0mdata13_new\u001b[0m\u001b[1;33m,\u001b[0m\u001b[0mdistrict\u001b[0m\u001b[1;33m,\u001b[0m \u001b[0mdata18_new\u001b[0m\u001b[1;33m,\u001b[0m \u001b[1;34m\"Females\"\u001b[0m\u001b[1;33m)\u001b[0m\u001b[1;33m\u001b[0m\u001b[1;33m\u001b[0m\u001b[0m\n\u001b[0;32m     16\u001b[0m     \u001b[1;31m#print(a, b,district)\u001b[0m\u001b[1;33m\u001b[0m\u001b[1;33m\u001b[0m\u001b[1;33m\u001b[0m\u001b[0m\n\u001b[1;32m---> 17\u001b[1;33m     \u001b[0mfinal_dict\u001b[0m\u001b[1;33m[\u001b[0m\u001b[1;34m'States'\u001b[0m\u001b[1;33m]\u001b[0m\u001b[1;33m.\u001b[0m\u001b[0mappend\u001b[0m\u001b[1;33m(\u001b[0m\u001b[0mdistrict\u001b[0m\u001b[1;33m)\u001b[0m\u001b[1;33m\u001b[0m\u001b[1;33m\u001b[0m\u001b[0m\n\u001b[0m\u001b[0;32m     18\u001b[0m     \u001b[0mfinal_dict\u001b[0m\u001b[1;33m[\u001b[0m\u001b[1;34m'females_age_group_2'\u001b[0m\u001b[1;33m]\u001b[0m\u001b[1;33m.\u001b[0m\u001b[0mappend\u001b[0m\u001b[1;33m(\u001b[0m\u001b[0ma\u001b[0m\u001b[1;33m)\u001b[0m\u001b[1;33m\u001b[0m\u001b[1;33m\u001b[0m\u001b[0m\n\u001b[0;32m     19\u001b[0m     \u001b[0mfinal_dict\u001b[0m\u001b[1;33m[\u001b[0m\u001b[1;34m'females_ratio_of_2'\u001b[0m\u001b[1;33m]\u001b[0m\u001b[1;33m.\u001b[0m\u001b[0mappend\u001b[0m\u001b[1;33m(\u001b[0m\u001b[0mb\u001b[0m\u001b[1;33m)\u001b[0m\u001b[1;33m\u001b[0m\u001b[1;33m\u001b[0m\u001b[0m\n",
      "\u001b[1;31mKeyError\u001b[0m: 'States'"
     ]
    }
   ],
   "source": [
    "final_dict = {}\n",
    "final_dict['states'] =[]\n",
    "final_dict['age-group-females'] = []\n",
    "final_dict['ratio-females'] = []\n",
    "datat = data13[0]\n",
    "data13_new = datat[['Unnamed: 3','Unnamed: 4',\"Females\"]]    # total population\n",
    "data18_new = data18[(data18['Urban'] == 'Total')]\n",
    "data18_new = data18_new[['Unnamed: 2','Unnamed: 4','Females.1', 'Females']]\n",
    "\n",
    "data13_new[\"Unnamed: 3\"] = data13_new[\"Unnamed: 3\"].apply(lambda x: str(x).upper() if (str(x) == \"India\") else str(x)[8:].split(\" (\")[0])\n",
    "for district in districts:\n",
    "    #if district == \"INDIA\":\n",
    "    #    continue\n",
    "    #print(district)\n",
    "    a, b = make_dist_bilingual(data13_new,district, data18_new, \"Females\")\n",
    "    #print(a, b,district)\n",
    "    final_dict['States'].append(district)\n",
    "    final_dict['females_age_group_2'].append(a)\n",
    "    final_dict['females_ratio_of_2'].append(b)\n"
   ]
  },
  {
   "cell_type": "code",
   "execution_count": null,
   "id": "ed5f489f",
   "metadata": {
    "ExecuteTime": {
     "end_time": "2021-11-08T10:02:56.401663Z",
     "start_time": "2021-11-08T10:01:57.329Z"
    }
   },
   "outputs": [],
   "source": [
    "final_dict_dff1 = pd.DataFrame(final_dict)\n",
    "final_dict_dff1.head()"
   ]
  },
  {
   "cell_type": "code",
   "execution_count": null,
   "id": "55485ad5",
   "metadata": {
    "ExecuteTime": {
     "end_time": "2021-11-08T10:02:56.402660Z",
     "start_time": "2021-11-08T10:01:57.352Z"
    }
   },
   "outputs": [],
   "source": [
    "final_data_bi = pd.merge(final_dict_dfm1, final_dict_dff1, how = 'outer', right_on = 'states', left_on = 'states')\n",
    "final_data_bi.to_csv(\"age-gender-1.csv\")"
   ]
  },
  {
   "cell_type": "code",
   "execution_count": null,
   "id": "14a3ed8f",
   "metadata": {
    "ExecuteTime": {
     "end_time": "2021-11-08T10:02:56.403657Z",
     "start_time": "2021-11-08T10:01:57.383Z"
    }
   },
   "outputs": [],
   "source": [
    "def make_dist_lingual(datai, district, data18, category = \"Persons\"):\n",
    "    #datai = data13[0]\\\n",
    "    #print(datai[\"Unnamed: 3\"].unique())\n",
    "    \n",
    "    #print(datai.shape)\n",
    "    #print(datai[\"Unnamed: 3\"].unique())\n",
    "    datai = datai[datai[\"Unnamed: 3\"] == district]\n",
    "    #print(datai.shape)\n",
    "    dist_age = [1]\n",
    "    stride = [5,5,5,5,5,20,20,31]\n",
    "    temp = datai[category].values\n",
    "    prev = 6\n",
    "    for i in stride:\n",
    "        dist_age.append(temp[prev:prev+i].sum())\n",
    "        #print(prev, prev+i)\n",
    "        prev = prev+i\n",
    "    dist_age.append(1)\n",
    "    data181i = data18[(data18['Unnamed: 2'] == district) ]\n",
    "    data181i['Total_Pop'] = np.array(dist_age)  \n",
    "    data181i['Ratio'] = 1 - ((data181i[category] +data181i[category+'.1'])/data181i['Total_Pop'])\n",
    "    data181i.sort_values('Ratio', inplace = True, ascending = False)\n",
    "    #print(data181i.columns)\n",
    "    return data181i.iloc[2,1], data181i.iloc[2,5]\n",
    "    "
   ]
  },
  {
   "cell_type": "code",
   "execution_count": null,
   "id": "9e95fa56",
   "metadata": {
    "ExecuteTime": {
     "end_time": "2021-11-08T10:02:56.416895Z",
     "start_time": "2021-11-08T10:01:57.417Z"
    }
   },
   "outputs": [],
   "source": [
    "final_dict = {}\n",
    "final_dict['states'] =[]\n",
    "final_dict['age-group-males'] = []\n",
    "final_dict['ratio-males'] = []\n",
    "datat = data13[0]\n",
    "data13_new = datat[['Unnamed: 3','Unnamed: 4',\"Males\"]]    # total population\n",
    "data18_new = data18[(data18['Urban'] == 'Total')]\n",
    "data18_new = data18_new[['Unnamed: 2','Unnamed: 4','Males.1', 'Males']]\n",
    "\n",
    "data13_new[\"Unnamed: 3\"] = data13_new[\"Unnamed: 3\"].apply(lambda x: str(x).upper() if (str(x) == \"India\") else str(x)[8:].split(\" (\")[0])\n",
    "for district in districts:\n",
    "    #if district == \"INDIA\":\n",
    "    #    continue\n",
    "    #print(district)\n",
    "    a, b = make_dist_lingual(data13_new,district, data18_new, \"Males\")\n",
    "    #print(a, b,district)\n",
    "    final_dict['states'].append(district)\n",
    "    final_dict['age-group-males'].append(a)\n",
    "    final_dict['ratio-males'].append(b)\n"
   ]
  },
  {
   "cell_type": "code",
   "execution_count": null,
   "id": "f08c5f45",
   "metadata": {
    "ExecuteTime": {
     "end_time": "2021-11-08T10:02:56.418122Z",
     "start_time": "2021-11-08T10:01:57.474Z"
    }
   },
   "outputs": [],
   "source": [
    "final_dict_dfm = pd.DataFrame(final_dict)\n",
    "final_dict_dfm.head()"
   ]
  },
  {
   "cell_type": "code",
   "execution_count": null,
   "id": "71225f6a",
   "metadata": {
    "ExecuteTime": {
     "end_time": "2021-11-08T10:02:56.419122Z",
     "start_time": "2021-11-08T10:01:57.515Z"
    }
   },
   "outputs": [],
   "source": [
    "final_dict = {}\n",
    "final_dict['states'] =[]\n",
    "final_dict['age-group-females'] = []\n",
    "final_dict['ratio-females'] = []\n",
    "datat = data13[0]\n",
    "data13_new = datat[['Unnamed: 3','Unnamed: 4',\"Females\"]]    # total population\n",
    "data18_new = data18[(data18['Urban'] == 'Total')]\n",
    "data18_new = data18_new[['Unnamed: 2','Unnamed: 4','Females.1', 'Females']]\n",
    "\n",
    "data13_new[\"Unnamed: 3\"] = data13_new[\"Unnamed: 3\"].apply(lambda x: str(x).upper() if (str(x) == \"India\") else str(x)[8:].split(\" (\")[0])\n",
    "for district in districts:\n",
    "    #if district == \"INDIA\":\n",
    "    #    continue\n",
    "    #print(district)\n",
    "    a, b = make_dist_lingual(data13_new,district, data18_new, \"Females\")\n",
    "    #print(a, b,district)\n",
    "    final_dict['states'].append(district)\n",
    "    final_dict['age-group-females'].append(a)\n",
    "    final_dict['ratio-females'].append(b)\n"
   ]
  },
  {
   "cell_type": "code",
   "execution_count": null,
   "id": "3c0b5306",
   "metadata": {
    "ExecuteTime": {
     "end_time": "2021-11-08T10:02:56.420558Z",
     "start_time": "2021-11-08T10:01:57.532Z"
    }
   },
   "outputs": [],
   "source": [
    "final_dict_dff = pd.DataFrame(final_dict)\n",
    "final_dict_dff.head()"
   ]
  },
  {
   "cell_type": "code",
   "execution_count": null,
   "id": "111fe40f",
   "metadata": {
    "ExecuteTime": {
     "end_time": "2021-11-08T10:02:56.421803Z",
     "start_time": "2021-11-08T10:01:57.548Z"
    }
   },
   "outputs": [],
   "source": [
    "final_data_si = pd.merge(final_dict_dfm, final_dict_dff, how = 'outer', right_on = 'states', left_on = 'states')"
   ]
  },
  {
   "cell_type": "code",
   "execution_count": null,
   "id": "f0234652",
   "metadata": {
    "ExecuteTime": {
     "end_time": "2021-11-08T10:02:56.422964Z",
     "start_time": "2021-11-08T10:01:57.570Z"
    }
   },
   "outputs": [],
   "source": [
    "final_data_si.to_csv(\"age-gender-1.csv\")"
   ]
  }
 ],
 "metadata": {
  "kernelspec": {
   "display_name": "Python 3",
   "language": "python",
   "name": "python3"
  },
  "language_info": {
   "codemirror_mode": {
    "name": "ipython",
    "version": 3
   },
   "file_extension": ".py",
   "mimetype": "text/x-python",
   "name": "python",
   "nbconvert_exporter": "python",
   "pygments_lexer": "ipython3",
   "version": "3.8.10"
  },
  "varInspector": {
   "cols": {
    "lenName": 16,
    "lenType": 16,
    "lenVar": 40
   },
   "kernels_config": {
    "python": {
     "delete_cmd_postfix": "",
     "delete_cmd_prefix": "del ",
     "library": "var_list.py",
     "varRefreshCmd": "print(var_dic_list())"
    },
    "r": {
     "delete_cmd_postfix": ") ",
     "delete_cmd_prefix": "rm(",
     "library": "var_list.r",
     "varRefreshCmd": "cat(var_dic_list()) "
    }
   },
   "types_to_exclude": [
    "module",
    "function",
    "builtin_function_or_method",
    "instance",
    "_Feature"
   ],
   "window_display": false
  }
 },
 "nbformat": 4,
 "nbformat_minor": 5
}
