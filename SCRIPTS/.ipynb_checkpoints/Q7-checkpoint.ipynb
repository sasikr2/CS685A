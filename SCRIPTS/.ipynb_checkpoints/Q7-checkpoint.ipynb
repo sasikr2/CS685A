{
 "cells": [
  {
   "cell_type": "code",
   "execution_count": 1,
   "id": "5cbb403e",
   "metadata": {
    "ExecuteTime": {
     "end_time": "2021-10-29T08:38:31.849378Z",
     "start_time": "2021-10-29T08:38:30.962057Z"
    }
   },
   "outputs": [],
   "source": [
    "import pandas as pd\n",
    "import numpy as np"
   ]
  },
  {
   "cell_type": "code",
   "execution_count": null,
   "id": "77d1271b",
   "metadata": {},
   "outputs": [],
   "source": [
    "data16 = []\n",
    "for i in range(0,36):\n",
    "    if i < 10:\n",
    "        data17.append(pd.read_excel(\"C-17/DDW-C17-0{}00.XLSX\".format(i), skiprows = [0,1,2,4,5], usecols = range(5)))\n",
    "        map1[data17[i][\"Unnamed: 1\"].unique()[0]] = i\n",
    "    else:\n",
    "        data17.append(pd.read_excel(\"C-17/DDW-C17-{}00.XLSX\".format(i), skiprows = [0,1,2,4,5], usecols = range(5)))\n",
    "        map1[data17[i][\"Unnamed: 1\"].unique()[0]] = i"
   ]
  },
  {
   "cell_type": "code",
   "execution_count": 40,
   "id": "a848bde1",
   "metadata": {
    "ExecuteTime": {
     "end_time": "2021-10-29T09:47:09.969488Z",
     "start_time": "2021-10-29T09:46:48.986572Z"
    }
   },
   "outputs": [],
   "source": [
    "data17 = []\n",
    "map1 = {}\n",
    "for i in range(0,36):\n",
    "    if i < 10:\n",
    "        data17.append(pd.read_excel(\"C-17/DDW-C17-0{}00.XLSX\".format(i), skiprows = [0,1,2,4,5], usecols = range(5)))\n",
    "        map1[data17[i][\"Unnamed: 1\"].unique()[0]] = i\n",
    "    else:\n",
    "        data17.append(pd.read_excel(\"C-17/DDW-C17-{}00.XLSX\".format(i), skiprows = [0,1,2,4,5], usecols = range(5)))\n",
    "        map1[data17[i][\"Unnamed: 1\"].unique()[0]] = i"
   ]
  },
  {
   "cell_type": "code",
   "execution_count": null,
   "id": "9d0597a2",
   "metadata": {},
   "outputs": [],
   "source": [
    "# North: JK, $Ladakh$, PN, HP, HR, UK, Delhi, Chandigar   8\n",
    "# West: RJ, GJ, MH, Goa, Dadra & Nagar Haveli, Daman & Diu 6\n",
    "# Central: MP, UP, CG 3\n",
    "# East: BH, WB, OR, JH  4\n",
    "# South: KT, $TG$, AP, TN, KL, Lakshadweep, Puducherry   7\n",
    "# North-East: AS, SK, MG, TR, AR, MN, NG, MZ, Andaman & Nicobar     9"
   ]
  },
  {
   "cell_type": "code",
   "execution_count": 10,
   "id": "dabfe041",
   "metadata": {
    "ExecuteTime": {
     "end_time": "2021-10-29T09:08:13.355992Z",
     "start_time": "2021-10-29T09:08:13.346247Z"
    },
    "scrolled": true
   },
   "outputs": [],
   "source": [
    "dict1 = {\"North\": [\n",
    " 'JAMMU & KASHMIR','PUNJAB','HIMACHAL PRADESH','HARYANA','UTTARAKHAND','NCT OF DELHI', 'CHANDIGARH'],\n",
    "         \"West\": ['RAJASTHAN', 'GUJARAT', 'DADRA & NAGAR HAVELI','MAHARASHTRA',\"GOA\", 'DAMAN & DIU'],\n",
    "         'Central': [\"MADHYA PRADESH\", \"UTTAR PRADESH\", \"CHHATTISGARH\"],\n",
    "         \"East\": [\"BIHAR\", \"JHARKHAND\",\"ODISHA\", \"WEST BENGAL\"],\n",
    "         \"South\": ['ANDHRA PRADESH', 'KARNATAKA','LAKSHADWEEP','KERALA','TAMIL NADU','PUDUCHERRY'],\n",
    "         \"North-East\": ['NAGALAND','MANIPUR', 'MIZORAM', 'TRIPURA', 'MEGHALAYA','ASSAM', 'ANDAMAN & NICOBAR ISLANDS', \"SIKKIM\",'ARUNACHAL PRADESH']\n",
    "        }"
   ]
  },
  {
   "cell_type": "code",
   "execution_count": 45,
   "id": "17235c38",
   "metadata": {
    "ExecuteTime": {
     "end_time": "2021-10-29T09:48:55.625564Z",
     "start_time": "2021-10-29T09:48:55.481752Z"
    }
   },
   "outputs": [],
   "source": [
    "datas = []\n",
    "for key in dict1:\n",
    "    l = dict1[key]\n",
    "    data = pd.DataFrame()\n",
    "    for dist in l:\n",
    "        idx = map1[dist]\n",
    "        #print(idx)\n",
    "        d = data17[idx].dropna()\n",
    "        #print(d.shape)\n",
    "        data = pd.concat([data, d])    \n",
    "    datas.append(data)    "
   ]
  },
  {
   "cell_type": "code",
   "execution_count": 89,
   "id": "00e492d9",
   "metadata": {
    "ExecuteTime": {
     "end_time": "2021-10-29T10:02:10.736466Z",
     "start_time": "2021-10-29T10:02:10.699066Z"
    }
   },
   "outputs": [],
   "source": [
    "final_dict = {}\n",
    "final_dict[\"Region\"] = []\n",
    "final_dict['Language-1'] = []\n",
    "final_dict['Language-2'] = []\n",
    "final_dict['Language-3'] = []\n",
    "i = 0\n",
    "for reg in dict1:\n",
    "    final_dict['Region'].append(reg)\n",
    "    x = datas[i].groupby(\"Name\").sum().sort_values(by = 'Persons', ascending = False)\n",
    "    final_dict['Language-1'].append(x.index[0])\n",
    "    final_dict['Language-2'].append(x.index[1])\n",
    "    final_dict['Language-3'].append(x.index[2])\n",
    "    i += 1"
   ]
  },
  {
   "cell_type": "code",
   "execution_count": 90,
   "id": "9e647bb1",
   "metadata": {
    "ExecuteTime": {
     "end_time": "2021-10-29T10:02:43.853762Z",
     "start_time": "2021-10-29T10:02:43.833808Z"
    }
   },
   "outputs": [],
   "source": [
    "final_data = pd.DataFrame(final_dict)"
   ]
  },
  {
   "cell_type": "code",
   "execution_count": 91,
   "id": "fb217ab2",
   "metadata": {
    "ExecuteTime": {
     "end_time": "2021-10-29T10:02:58.267905Z",
     "start_time": "2021-10-29T10:02:58.245945Z"
    }
   },
   "outputs": [
    {
     "data": {
      "text/html": [
       "<div>\n",
       "<style scoped>\n",
       "    .dataframe tbody tr th:only-of-type {\n",
       "        vertical-align: middle;\n",
       "    }\n",
       "\n",
       "    .dataframe tbody tr th {\n",
       "        vertical-align: top;\n",
       "    }\n",
       "\n",
       "    .dataframe thead th {\n",
       "        text-align: right;\n",
       "    }\n",
       "</style>\n",
       "<table border=\"1\" class=\"dataframe\">\n",
       "  <thead>\n",
       "    <tr style=\"text-align: right;\">\n",
       "      <th></th>\n",
       "      <th>Region</th>\n",
       "      <th>Lang1</th>\n",
       "      <th>Lang2</th>\n",
       "      <th>Lang3</th>\n",
       "    </tr>\n",
       "  </thead>\n",
       "  <tbody>\n",
       "    <tr>\n",
       "      <th>0</th>\n",
       "      <td>North</td>\n",
       "      <td>HINDI</td>\n",
       "      <td>PUNJABI</td>\n",
       "      <td>KASHMIRI</td>\n",
       "    </tr>\n",
       "    <tr>\n",
       "      <th>1</th>\n",
       "      <td>West</td>\n",
       "      <td>HINDI</td>\n",
       "      <td>MARATHI</td>\n",
       "      <td>GUJARATI</td>\n",
       "    </tr>\n",
       "    <tr>\n",
       "      <th>2</th>\n",
       "      <td>Central</td>\n",
       "      <td>HINDI</td>\n",
       "      <td>URDU</td>\n",
       "      <td>BHILI/BHILODI</td>\n",
       "    </tr>\n",
       "    <tr>\n",
       "      <th>3</th>\n",
       "      <td>East</td>\n",
       "      <td>HINDI</td>\n",
       "      <td>BENGALI</td>\n",
       "      <td>ODIA</td>\n",
       "    </tr>\n",
       "    <tr>\n",
       "      <th>4</th>\n",
       "      <td>South</td>\n",
       "      <td>TELUGU</td>\n",
       "      <td>TAMIL</td>\n",
       "      <td>KANNADA</td>\n",
       "    </tr>\n",
       "  </tbody>\n",
       "</table>\n",
       "</div>"
      ],
      "text/plain": [
       "    Region    Lang1     Lang2           Lang3\n",
       "0    North   HINDI   PUNJABI        KASHMIRI \n",
       "1     West   HINDI   MARATHI         GUJARATI\n",
       "2  Central   HINDI       URDU  BHILI/BHILODI \n",
       "3     East   HINDI   BENGALI            ODIA \n",
       "4    South  TELUGU     TAMIL          KANNADA"
      ]
     },
     "execution_count": 91,
     "metadata": {},
     "output_type": "execute_result"
    }
   ],
   "source": [
    "final_data.head()"
   ]
  },
  {
   "cell_type": "code",
   "execution_count": 92,
   "id": "b1139c0d",
   "metadata": {
    "ExecuteTime": {
     "end_time": "2021-10-29T10:03:18.410238Z",
     "start_time": "2021-10-29T10:03:18.399462Z"
    }
   },
   "outputs": [],
   "source": [
    "final_data.to_csv(\"region-india.csv\")"
   ]
  },
  {
   "cell_type": "code",
   "execution_count": null,
   "id": "2b875a47",
   "metadata": {},
   "outputs": [],
   "source": [
    "print(\"region-india.csv is created\")"
   ]
  }
 ],
 "metadata": {
  "kernelspec": {
   "display_name": "Python 3",
   "language": "python",
   "name": "python3"
  },
  "language_info": {
   "codemirror_mode": {
    "name": "ipython",
    "version": 3
   },
   "file_extension": ".py",
   "mimetype": "text/x-python",
   "name": "python",
   "nbconvert_exporter": "python",
   "pygments_lexer": "ipython3",
   "version": "3.8.10"
  },
  "varInspector": {
   "cols": {
    "lenName": 16,
    "lenType": 16,
    "lenVar": 40
   },
   "kernels_config": {
    "python": {
     "delete_cmd_postfix": "",
     "delete_cmd_prefix": "del ",
     "library": "var_list.py",
     "varRefreshCmd": "print(var_dic_list())"
    },
    "r": {
     "delete_cmd_postfix": ") ",
     "delete_cmd_prefix": "rm(",
     "library": "var_list.r",
     "varRefreshCmd": "cat(var_dic_list()) "
    }
   },
   "types_to_exclude": [
    "module",
    "function",
    "builtin_function_or_method",
    "instance",
    "_Feature"
   ],
   "window_display": false
  }
 },
 "nbformat": 4,
 "nbformat_minor": 5
}
