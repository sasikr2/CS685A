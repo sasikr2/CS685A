{
 "cells": [
  {
   "cell_type": "markdown",
   "id": "0ea1a139",
   "metadata": {},
   "source": [
    "# Q3\n"
   ]
  },
  {
   "cell_type": "code",
   "execution_count": 1,
   "id": "f6d9bcf4",
   "metadata": {
    "ExecuteTime": {
     "end_time": "2021-11-08T11:05:56.035761Z",
     "start_time": "2021-11-08T11:05:53.876565Z"
    }
   },
   "outputs": [],
   "source": [
    "import pandas as pd\n",
    "import numpy as np\n",
    "from statsmodels.stats.proportion import proportions_ztest"
   ]
  },
  {
   "cell_type": "code",
   "execution_count": 2,
   "id": "df2f34ba",
   "metadata": {
    "ExecuteTime": {
     "end_time": "2021-11-08T11:06:00.389347Z",
     "start_time": "2021-11-08T11:05:56.041251Z"
    }
   },
   "outputs": [],
   "source": [
    "census_raw = pd.read_excel(\"DDW_PCA0000_2011_Indiastatedist.xlsx\")"
   ]
  },
  {
   "cell_type": "code",
   "execution_count": 3,
   "id": "bc3f4982",
   "metadata": {
    "ExecuteTime": {
     "end_time": "2021-11-08T11:06:00.756178Z",
     "start_time": "2021-11-08T11:06:00.393197Z"
    }
   },
   "outputs": [],
   "source": [
    "data18 = pd.read_excel(\"DDW-C18-0000.XLSX\", skiprows = [0,1,2,4,5])"
   ]
  },
  {
   "cell_type": "code",
   "execution_count": 4,
   "id": "1f7ab628",
   "metadata": {
    "ExecuteTime": {
     "end_time": "2021-11-08T11:06:00.806281Z",
     "start_time": "2021-11-08T11:06:00.762168Z"
    }
   },
   "outputs": [
    {
     "data": {
      "text/html": [
       "<div>\n",
       "<style scoped>\n",
       "    .dataframe tbody tr th:only-of-type {\n",
       "        vertical-align: middle;\n",
       "    }\n",
       "\n",
       "    .dataframe tbody tr th {\n",
       "        vertical-align: top;\n",
       "    }\n",
       "\n",
       "    .dataframe thead th {\n",
       "        text-align: right;\n",
       "    }\n",
       "</style>\n",
       "<table border=\"1\" class=\"dataframe\">\n",
       "  <thead>\n",
       "    <tr style=\"text-align: right;\">\n",
       "      <th></th>\n",
       "      <th>Unnamed: 0</th>\n",
       "      <th>Unnamed: 1</th>\n",
       "      <th>Unnamed: 2</th>\n",
       "      <th>Urban</th>\n",
       "      <th>Unnamed: 4</th>\n",
       "      <th>Persons</th>\n",
       "      <th>Males</th>\n",
       "      <th>Females</th>\n",
       "      <th>Persons.1</th>\n",
       "      <th>Males.1</th>\n",
       "      <th>Females.1</th>\n",
       "    </tr>\n",
       "  </thead>\n",
       "  <tbody>\n",
       "    <tr>\n",
       "      <th>0</th>\n",
       "      <td>0</td>\n",
       "      <td>0</td>\n",
       "      <td>INDIA</td>\n",
       "      <td>Total</td>\n",
       "      <td>Total</td>\n",
       "      <td>314988770</td>\n",
       "      <td>176696383</td>\n",
       "      <td>138292387</td>\n",
       "      <td>86009580</td>\n",
       "      <td>50536832</td>\n",
       "      <td>35472748</td>\n",
       "    </tr>\n",
       "    <tr>\n",
       "      <th>1</th>\n",
       "      <td>0</td>\n",
       "      <td>0</td>\n",
       "      <td>INDIA</td>\n",
       "      <td>Total</td>\n",
       "      <td>5-9</td>\n",
       "      <td>15649192</td>\n",
       "      <td>8166843</td>\n",
       "      <td>7482349</td>\n",
       "      <td>1844108</td>\n",
       "      <td>978151</td>\n",
       "      <td>865957</td>\n",
       "    </tr>\n",
       "    <tr>\n",
       "      <th>2</th>\n",
       "      <td>0</td>\n",
       "      <td>0</td>\n",
       "      <td>INDIA</td>\n",
       "      <td>Total</td>\n",
       "      <td>10-14</td>\n",
       "      <td>34488492</td>\n",
       "      <td>18133423</td>\n",
       "      <td>16355069</td>\n",
       "      <td>7254335</td>\n",
       "      <td>3831131</td>\n",
       "      <td>3423204</td>\n",
       "    </tr>\n",
       "    <tr>\n",
       "      <th>3</th>\n",
       "      <td>0</td>\n",
       "      <td>0</td>\n",
       "      <td>INDIA</td>\n",
       "      <td>Total</td>\n",
       "      <td>15-19</td>\n",
       "      <td>42424599</td>\n",
       "      <td>22750908</td>\n",
       "      <td>19673691</td>\n",
       "      <td>12626717</td>\n",
       "      <td>6792766</td>\n",
       "      <td>5833951</td>\n",
       "    </tr>\n",
       "    <tr>\n",
       "      <th>4</th>\n",
       "      <td>0</td>\n",
       "      <td>0</td>\n",
       "      <td>INDIA</td>\n",
       "      <td>Total</td>\n",
       "      <td>20-24</td>\n",
       "      <td>41344406</td>\n",
       "      <td>22386694</td>\n",
       "      <td>18957712</td>\n",
       "      <td>12834334</td>\n",
       "      <td>7067614</td>\n",
       "      <td>5766720</td>\n",
       "    </tr>\n",
       "  </tbody>\n",
       "</table>\n",
       "</div>"
      ],
      "text/plain": [
       "   Unnamed: 0  Unnamed: 1 Unnamed: 2  Urban Unnamed: 4    Persons      Males  \\\n",
       "0           0           0      INDIA  Total      Total  314988770  176696383   \n",
       "1           0           0      INDIA  Total        5-9   15649192    8166843   \n",
       "2           0           0      INDIA  Total      10-14   34488492   18133423   \n",
       "3           0           0      INDIA  Total      15-19   42424599   22750908   \n",
       "4           0           0      INDIA  Total      20-24   41344406   22386694   \n",
       "\n",
       "     Females  Persons.1   Males.1  Females.1  \n",
       "0  138292387   86009580  50536832   35472748  \n",
       "1    7482349    1844108    978151     865957  \n",
       "2   16355069    7254335   3831131    3423204  \n",
       "3   19673691   12626717   6792766    5833951  \n",
       "4   18957712   12834334   7067614    5766720  "
      ]
     },
     "execution_count": 4,
     "metadata": {},
     "output_type": "execute_result"
    }
   ],
   "source": [
    "data18.head()"
   ]
  },
  {
   "cell_type": "code",
   "execution_count": 5,
   "id": "fd11b20b",
   "metadata": {
    "ExecuteTime": {
     "end_time": "2021-11-08T11:06:00.823917Z",
     "start_time": "2021-11-08T11:06:00.811035Z"
    }
   },
   "outputs": [],
   "source": [
    "data18_urban = data18[(data18['Urban'] == \"Urban\") & (data18['Unnamed: 4'] == \"Total\")]\n",
    "data18_rural = data18[(data18['Urban'] == \"Rural\") & (data18['Unnamed: 4'] == \"Total\")]"
   ]
  },
  {
   "cell_type": "code",
   "execution_count": 6,
   "id": "7bb7b624",
   "metadata": {
    "ExecuteTime": {
     "end_time": "2021-11-08T11:06:00.854992Z",
     "start_time": "2021-11-08T11:06:00.827908Z"
    }
   },
   "outputs": [
    {
     "data": {
      "text/html": [
       "<div>\n",
       "<style scoped>\n",
       "    .dataframe tbody tr th:only-of-type {\n",
       "        vertical-align: middle;\n",
       "    }\n",
       "\n",
       "    .dataframe tbody tr th {\n",
       "        vertical-align: top;\n",
       "    }\n",
       "\n",
       "    .dataframe thead th {\n",
       "        text-align: right;\n",
       "    }\n",
       "</style>\n",
       "<table border=\"1\" class=\"dataframe\">\n",
       "  <thead>\n",
       "    <tr style=\"text-align: right;\">\n",
       "      <th></th>\n",
       "      <th>Unnamed: 0</th>\n",
       "      <th>Unnamed: 1</th>\n",
       "      <th>Unnamed: 2</th>\n",
       "      <th>Urban</th>\n",
       "      <th>Unnamed: 4</th>\n",
       "      <th>Persons</th>\n",
       "      <th>Males</th>\n",
       "      <th>Females</th>\n",
       "      <th>Persons.1</th>\n",
       "      <th>Males.1</th>\n",
       "      <th>Females.1</th>\n",
       "    </tr>\n",
       "  </thead>\n",
       "  <tbody>\n",
       "    <tr>\n",
       "      <th>20</th>\n",
       "      <td>0</td>\n",
       "      <td>0</td>\n",
       "      <td>INDIA</td>\n",
       "      <td>Urban</td>\n",
       "      <td>Total</td>\n",
       "      <td>152347285</td>\n",
       "      <td>83708331</td>\n",
       "      <td>68638954</td>\n",
       "      <td>50625591</td>\n",
       "      <td>28765770</td>\n",
       "      <td>21859821</td>\n",
       "    </tr>\n",
       "    <tr>\n",
       "      <th>50</th>\n",
       "      <td>1</td>\n",
       "      <td>0</td>\n",
       "      <td>JAMMU &amp; KASHMIR</td>\n",
       "      <td>Urban</td>\n",
       "      <td>Total</td>\n",
       "      <td>2015952</td>\n",
       "      <td>1164456</td>\n",
       "      <td>851496</td>\n",
       "      <td>837496</td>\n",
       "      <td>480052</td>\n",
       "      <td>357444</td>\n",
       "    </tr>\n",
       "    <tr>\n",
       "      <th>80</th>\n",
       "      <td>2</td>\n",
       "      <td>0</td>\n",
       "      <td>HIMACHAL PRADESH</td>\n",
       "      <td>Urban</td>\n",
       "      <td>Total</td>\n",
       "      <td>261187</td>\n",
       "      <td>145165</td>\n",
       "      <td>116022</td>\n",
       "      <td>66469</td>\n",
       "      <td>37439</td>\n",
       "      <td>29030</td>\n",
       "    </tr>\n",
       "    <tr>\n",
       "      <th>110</th>\n",
       "      <td>3</td>\n",
       "      <td>0</td>\n",
       "      <td>PUNJAB</td>\n",
       "      <td>Urban</td>\n",
       "      <td>Total</td>\n",
       "      <td>5952044</td>\n",
       "      <td>3285923</td>\n",
       "      <td>2666121</td>\n",
       "      <td>3599043</td>\n",
       "      <td>1979374</td>\n",
       "      <td>1619669</td>\n",
       "    </tr>\n",
       "    <tr>\n",
       "      <th>140</th>\n",
       "      <td>4</td>\n",
       "      <td>0</td>\n",
       "      <td>CHANDIGARH</td>\n",
       "      <td>Urban</td>\n",
       "      <td>Total</td>\n",
       "      <td>568197</td>\n",
       "      <td>315829</td>\n",
       "      <td>252368</td>\n",
       "      <td>317626</td>\n",
       "      <td>175910</td>\n",
       "      <td>141716</td>\n",
       "    </tr>\n",
       "  </tbody>\n",
       "</table>\n",
       "</div>"
      ],
      "text/plain": [
       "     Unnamed: 0  Unnamed: 1        Unnamed: 2  Urban Unnamed: 4    Persons  \\\n",
       "20            0           0             INDIA  Urban      Total  152347285   \n",
       "50            1           0   JAMMU & KASHMIR  Urban      Total    2015952   \n",
       "80            2           0  HIMACHAL PRADESH  Urban      Total     261187   \n",
       "110           3           0            PUNJAB  Urban      Total    5952044   \n",
       "140           4           0        CHANDIGARH  Urban      Total     568197   \n",
       "\n",
       "        Males   Females  Persons.1   Males.1  Females.1  \n",
       "20   83708331  68638954   50625591  28765770   21859821  \n",
       "50    1164456    851496     837496    480052     357444  \n",
       "80     145165    116022      66469     37439      29030  \n",
       "110   3285923   2666121    3599043   1979374    1619669  \n",
       "140    315829    252368     317626    175910     141716  "
      ]
     },
     "execution_count": 6,
     "metadata": {},
     "output_type": "execute_result"
    }
   ],
   "source": [
    "data18_urban.head()"
   ]
  },
  {
   "cell_type": "code",
   "execution_count": 7,
   "id": "22996e91",
   "metadata": {
    "ExecuteTime": {
     "end_time": "2021-11-08T11:06:00.872648Z",
     "start_time": "2021-11-08T11:06:00.860892Z"
    }
   },
   "outputs": [],
   "source": [
    "census = census_raw.iloc[:,6:13]"
   ]
  },
  {
   "cell_type": "code",
   "execution_count": 8,
   "id": "86d90a0c",
   "metadata": {
    "ExecuteTime": {
     "end_time": "2021-11-08T11:06:00.903590Z",
     "start_time": "2021-11-08T11:06:00.879089Z"
    }
   },
   "outputs": [
    {
     "data": {
      "text/html": [
       "<div>\n",
       "<style scoped>\n",
       "    .dataframe tbody tr th:only-of-type {\n",
       "        vertical-align: middle;\n",
       "    }\n",
       "\n",
       "    .dataframe tbody tr th {\n",
       "        vertical-align: top;\n",
       "    }\n",
       "\n",
       "    .dataframe thead th {\n",
       "        text-align: right;\n",
       "    }\n",
       "</style>\n",
       "<table border=\"1\" class=\"dataframe\">\n",
       "  <thead>\n",
       "    <tr style=\"text-align: right;\">\n",
       "      <th></th>\n",
       "      <th>Level</th>\n",
       "      <th>Name</th>\n",
       "      <th>TRU</th>\n",
       "      <th>No_HH</th>\n",
       "      <th>TOT_P</th>\n",
       "      <th>TOT_M</th>\n",
       "      <th>TOT_F</th>\n",
       "    </tr>\n",
       "  </thead>\n",
       "  <tbody>\n",
       "    <tr>\n",
       "      <th>0</th>\n",
       "      <td>India</td>\n",
       "      <td>India</td>\n",
       "      <td>Total</td>\n",
       "      <td>249501663</td>\n",
       "      <td>1210854977</td>\n",
       "      <td>623270258</td>\n",
       "      <td>587584719</td>\n",
       "    </tr>\n",
       "    <tr>\n",
       "      <th>1</th>\n",
       "      <td>India</td>\n",
       "      <td>India</td>\n",
       "      <td>Rural</td>\n",
       "      <td>168612897</td>\n",
       "      <td>833748852</td>\n",
       "      <td>427781058</td>\n",
       "      <td>405967794</td>\n",
       "    </tr>\n",
       "    <tr>\n",
       "      <th>2</th>\n",
       "      <td>India</td>\n",
       "      <td>India</td>\n",
       "      <td>Urban</td>\n",
       "      <td>80888766</td>\n",
       "      <td>377106125</td>\n",
       "      <td>195489200</td>\n",
       "      <td>181616925</td>\n",
       "    </tr>\n",
       "    <tr>\n",
       "      <th>3</th>\n",
       "      <td>STATE</td>\n",
       "      <td>JAMMU &amp; KASHMIR</td>\n",
       "      <td>Total</td>\n",
       "      <td>2119718</td>\n",
       "      <td>12541302</td>\n",
       "      <td>6640662</td>\n",
       "      <td>5900640</td>\n",
       "    </tr>\n",
       "    <tr>\n",
       "      <th>4</th>\n",
       "      <td>STATE</td>\n",
       "      <td>JAMMU &amp; KASHMIR</td>\n",
       "      <td>Rural</td>\n",
       "      <td>1553433</td>\n",
       "      <td>9108060</td>\n",
       "      <td>4774477</td>\n",
       "      <td>4333583</td>\n",
       "    </tr>\n",
       "  </tbody>\n",
       "</table>\n",
       "</div>"
      ],
      "text/plain": [
       "   Level             Name    TRU      No_HH       TOT_P      TOT_M      TOT_F\n",
       "0  India            India  Total  249501663  1210854977  623270258  587584719\n",
       "1  India            India  Rural  168612897   833748852  427781058  405967794\n",
       "2  India            India  Urban   80888766   377106125  195489200  181616925\n",
       "3  STATE  JAMMU & KASHMIR  Total    2119718    12541302    6640662    5900640\n",
       "4  STATE  JAMMU & KASHMIR  Rural    1553433     9108060    4774477    4333583"
      ]
     },
     "execution_count": 8,
     "metadata": {},
     "output_type": "execute_result"
    }
   ],
   "source": [
    "census.head()"
   ]
  },
  {
   "cell_type": "code",
   "execution_count": 9,
   "id": "c331b4d6",
   "metadata": {
    "ExecuteTime": {
     "end_time": "2021-11-08T11:06:00.925976Z",
     "start_time": "2021-11-08T11:06:00.910626Z"
    }
   },
   "outputs": [
    {
     "name": "stderr",
     "output_type": "stream",
     "text": [
      "<ipython-input-9-10a09582cd67>:2: SettingWithCopyWarning: \n",
      "A value is trying to be set on a copy of a slice from a DataFrame.\n",
      "Try using .loc[row_indexer,col_indexer] = value instead\n",
      "\n",
      "See the caveats in the documentation: https://pandas.pydata.org/pandas-docs/stable/user_guide/indexing.html#returning-a-view-versus-a-copy\n",
      "  census_urban['Name'] = census_urban['Name'].apply(lambda x: str(x).upper())\n"
     ]
    }
   ],
   "source": [
    "census_urban = census[((census[\"Level\"] ==  \"STATE\") | (census[\"Level\"] == \"India\")) & (census['TRU'] == \"Urban\")]\n",
    "census_urban['Name'] = census_urban['Name'].apply(lambda x: str(x).upper())"
   ]
  },
  {
   "cell_type": "code",
   "execution_count": 10,
   "id": "db88d218",
   "metadata": {
    "ExecuteTime": {
     "end_time": "2021-11-08T11:06:00.949148Z",
     "start_time": "2021-11-08T11:06:00.927968Z"
    }
   },
   "outputs": [
    {
     "data": {
      "text/html": [
       "<div>\n",
       "<style scoped>\n",
       "    .dataframe tbody tr th:only-of-type {\n",
       "        vertical-align: middle;\n",
       "    }\n",
       "\n",
       "    .dataframe tbody tr th {\n",
       "        vertical-align: top;\n",
       "    }\n",
       "\n",
       "    .dataframe thead th {\n",
       "        text-align: right;\n",
       "    }\n",
       "</style>\n",
       "<table border=\"1\" class=\"dataframe\">\n",
       "  <thead>\n",
       "    <tr style=\"text-align: right;\">\n",
       "      <th></th>\n",
       "      <th>Level</th>\n",
       "      <th>Name</th>\n",
       "      <th>TRU</th>\n",
       "      <th>No_HH</th>\n",
       "      <th>TOT_P</th>\n",
       "      <th>TOT_M</th>\n",
       "      <th>TOT_F</th>\n",
       "    </tr>\n",
       "  </thead>\n",
       "  <tbody>\n",
       "    <tr>\n",
       "      <th>2</th>\n",
       "      <td>India</td>\n",
       "      <td>INDIA</td>\n",
       "      <td>Urban</td>\n",
       "      <td>80888766</td>\n",
       "      <td>377106125</td>\n",
       "      <td>195489200</td>\n",
       "      <td>181616925</td>\n",
       "    </tr>\n",
       "    <tr>\n",
       "      <th>5</th>\n",
       "      <td>STATE</td>\n",
       "      <td>JAMMU &amp; KASHMIR</td>\n",
       "      <td>Urban</td>\n",
       "      <td>566285</td>\n",
       "      <td>3433242</td>\n",
       "      <td>1866185</td>\n",
       "      <td>1567057</td>\n",
       "    </tr>\n",
       "    <tr>\n",
       "      <th>74</th>\n",
       "      <td>STATE</td>\n",
       "      <td>HIMACHAL PRADESH</td>\n",
       "      <td>Urban</td>\n",
       "      <td>170770</td>\n",
       "      <td>688552</td>\n",
       "      <td>371528</td>\n",
       "      <td>317024</td>\n",
       "    </tr>\n",
       "    <tr>\n",
       "      <th>113</th>\n",
       "      <td>STATE</td>\n",
       "      <td>PUNJAB</td>\n",
       "      <td>Urban</td>\n",
       "      <td>2154958</td>\n",
       "      <td>10399146</td>\n",
       "      <td>5545989</td>\n",
       "      <td>4853157</td>\n",
       "    </tr>\n",
       "    <tr>\n",
       "      <th>176</th>\n",
       "      <td>STATE</td>\n",
       "      <td>CHANDIGARH</td>\n",
       "      <td>Urban</td>\n",
       "      <td>234033</td>\n",
       "      <td>1026459</td>\n",
       "      <td>563513</td>\n",
       "      <td>462946</td>\n",
       "    </tr>\n",
       "  </tbody>\n",
       "</table>\n",
       "</div>"
      ],
      "text/plain": [
       "     Level              Name    TRU     No_HH      TOT_P      TOT_M      TOT_F\n",
       "2    India             INDIA  Urban  80888766  377106125  195489200  181616925\n",
       "5    STATE   JAMMU & KASHMIR  Urban    566285    3433242    1866185    1567057\n",
       "74   STATE  HIMACHAL PRADESH  Urban    170770     688552     371528     317024\n",
       "113  STATE            PUNJAB  Urban   2154958   10399146    5545989    4853157\n",
       "176  STATE        CHANDIGARH  Urban    234033    1026459     563513     462946"
      ]
     },
     "execution_count": 10,
     "metadata": {},
     "output_type": "execute_result"
    }
   ],
   "source": [
    "census_urban.head()"
   ]
  },
  {
   "cell_type": "code",
   "execution_count": 11,
   "id": "3f4541c9",
   "metadata": {
    "ExecuteTime": {
     "end_time": "2021-11-08T11:06:00.964338Z",
     "start_time": "2021-11-08T11:06:00.952161Z"
    }
   },
   "outputs": [],
   "source": [
    "urban_merge = pd.merge(data18_urban, census_urban, how = 'inner', right_on = 'Name', left_on = 'Unnamed: 2')"
   ]
  },
  {
   "cell_type": "code",
   "execution_count": 12,
   "id": "a467377f",
   "metadata": {
    "ExecuteTime": {
     "end_time": "2021-11-08T11:06:01.005054Z",
     "start_time": "2021-11-08T11:06:00.966481Z"
    }
   },
   "outputs": [
    {
     "data": {
      "text/html": [
       "<div>\n",
       "<style scoped>\n",
       "    .dataframe tbody tr th:only-of-type {\n",
       "        vertical-align: middle;\n",
       "    }\n",
       "\n",
       "    .dataframe tbody tr th {\n",
       "        vertical-align: top;\n",
       "    }\n",
       "\n",
       "    .dataframe thead th {\n",
       "        text-align: right;\n",
       "    }\n",
       "</style>\n",
       "<table border=\"1\" class=\"dataframe\">\n",
       "  <thead>\n",
       "    <tr style=\"text-align: right;\">\n",
       "      <th></th>\n",
       "      <th>Unnamed: 0</th>\n",
       "      <th>Unnamed: 1</th>\n",
       "      <th>Unnamed: 2</th>\n",
       "      <th>Urban</th>\n",
       "      <th>Unnamed: 4</th>\n",
       "      <th>Persons</th>\n",
       "      <th>Males</th>\n",
       "      <th>Females</th>\n",
       "      <th>Persons.1</th>\n",
       "      <th>Males.1</th>\n",
       "      <th>Females.1</th>\n",
       "      <th>Level</th>\n",
       "      <th>Name</th>\n",
       "      <th>TRU</th>\n",
       "      <th>No_HH</th>\n",
       "      <th>TOT_P</th>\n",
       "      <th>TOT_M</th>\n",
       "      <th>TOT_F</th>\n",
       "    </tr>\n",
       "  </thead>\n",
       "  <tbody>\n",
       "    <tr>\n",
       "      <th>0</th>\n",
       "      <td>0</td>\n",
       "      <td>0</td>\n",
       "      <td>INDIA</td>\n",
       "      <td>Urban</td>\n",
       "      <td>Total</td>\n",
       "      <td>152347285</td>\n",
       "      <td>83708331</td>\n",
       "      <td>68638954</td>\n",
       "      <td>50625591</td>\n",
       "      <td>28765770</td>\n",
       "      <td>21859821</td>\n",
       "      <td>India</td>\n",
       "      <td>INDIA</td>\n",
       "      <td>Urban</td>\n",
       "      <td>80888766</td>\n",
       "      <td>377106125</td>\n",
       "      <td>195489200</td>\n",
       "      <td>181616925</td>\n",
       "    </tr>\n",
       "    <tr>\n",
       "      <th>1</th>\n",
       "      <td>1</td>\n",
       "      <td>0</td>\n",
       "      <td>JAMMU &amp; KASHMIR</td>\n",
       "      <td>Urban</td>\n",
       "      <td>Total</td>\n",
       "      <td>2015952</td>\n",
       "      <td>1164456</td>\n",
       "      <td>851496</td>\n",
       "      <td>837496</td>\n",
       "      <td>480052</td>\n",
       "      <td>357444</td>\n",
       "      <td>STATE</td>\n",
       "      <td>JAMMU &amp; KASHMIR</td>\n",
       "      <td>Urban</td>\n",
       "      <td>566285</td>\n",
       "      <td>3433242</td>\n",
       "      <td>1866185</td>\n",
       "      <td>1567057</td>\n",
       "    </tr>\n",
       "    <tr>\n",
       "      <th>2</th>\n",
       "      <td>2</td>\n",
       "      <td>0</td>\n",
       "      <td>HIMACHAL PRADESH</td>\n",
       "      <td>Urban</td>\n",
       "      <td>Total</td>\n",
       "      <td>261187</td>\n",
       "      <td>145165</td>\n",
       "      <td>116022</td>\n",
       "      <td>66469</td>\n",
       "      <td>37439</td>\n",
       "      <td>29030</td>\n",
       "      <td>STATE</td>\n",
       "      <td>HIMACHAL PRADESH</td>\n",
       "      <td>Urban</td>\n",
       "      <td>170770</td>\n",
       "      <td>688552</td>\n",
       "      <td>371528</td>\n",
       "      <td>317024</td>\n",
       "    </tr>\n",
       "    <tr>\n",
       "      <th>3</th>\n",
       "      <td>3</td>\n",
       "      <td>0</td>\n",
       "      <td>PUNJAB</td>\n",
       "      <td>Urban</td>\n",
       "      <td>Total</td>\n",
       "      <td>5952044</td>\n",
       "      <td>3285923</td>\n",
       "      <td>2666121</td>\n",
       "      <td>3599043</td>\n",
       "      <td>1979374</td>\n",
       "      <td>1619669</td>\n",
       "      <td>STATE</td>\n",
       "      <td>PUNJAB</td>\n",
       "      <td>Urban</td>\n",
       "      <td>2154958</td>\n",
       "      <td>10399146</td>\n",
       "      <td>5545989</td>\n",
       "      <td>4853157</td>\n",
       "    </tr>\n",
       "    <tr>\n",
       "      <th>4</th>\n",
       "      <td>4</td>\n",
       "      <td>0</td>\n",
       "      <td>CHANDIGARH</td>\n",
       "      <td>Urban</td>\n",
       "      <td>Total</td>\n",
       "      <td>568197</td>\n",
       "      <td>315829</td>\n",
       "      <td>252368</td>\n",
       "      <td>317626</td>\n",
       "      <td>175910</td>\n",
       "      <td>141716</td>\n",
       "      <td>STATE</td>\n",
       "      <td>CHANDIGARH</td>\n",
       "      <td>Urban</td>\n",
       "      <td>234033</td>\n",
       "      <td>1026459</td>\n",
       "      <td>563513</td>\n",
       "      <td>462946</td>\n",
       "    </tr>\n",
       "  </tbody>\n",
       "</table>\n",
       "</div>"
      ],
      "text/plain": [
       "   Unnamed: 0  Unnamed: 1        Unnamed: 2  Urban Unnamed: 4    Persons  \\\n",
       "0           0           0             INDIA  Urban      Total  152347285   \n",
       "1           1           0   JAMMU & KASHMIR  Urban      Total    2015952   \n",
       "2           2           0  HIMACHAL PRADESH  Urban      Total     261187   \n",
       "3           3           0            PUNJAB  Urban      Total    5952044   \n",
       "4           4           0        CHANDIGARH  Urban      Total     568197   \n",
       "\n",
       "      Males   Females  Persons.1   Males.1  Females.1  Level  \\\n",
       "0  83708331  68638954   50625591  28765770   21859821  India   \n",
       "1   1164456    851496     837496    480052     357444  STATE   \n",
       "2    145165    116022      66469     37439      29030  STATE   \n",
       "3   3285923   2666121    3599043   1979374    1619669  STATE   \n",
       "4    315829    252368     317626    175910     141716  STATE   \n",
       "\n",
       "               Name    TRU     No_HH      TOT_P      TOT_M      TOT_F  \n",
       "0             INDIA  Urban  80888766  377106125  195489200  181616925  \n",
       "1   JAMMU & KASHMIR  Urban    566285    3433242    1866185    1567057  \n",
       "2  HIMACHAL PRADESH  Urban    170770     688552     371528     317024  \n",
       "3            PUNJAB  Urban   2154958   10399146    5545989    4853157  \n",
       "4        CHANDIGARH  Urban    234033    1026459     563513     462946  "
      ]
     },
     "execution_count": 12,
     "metadata": {},
     "output_type": "execute_result"
    }
   ],
   "source": [
    "urban_merge.head()"
   ]
  },
  {
   "cell_type": "code",
   "execution_count": 13,
   "id": "82e3cdd1",
   "metadata": {
    "ExecuteTime": {
     "end_time": "2021-11-08T11:06:01.031938Z",
     "start_time": "2021-11-08T11:06:01.009866Z"
    }
   },
   "outputs": [
    {
     "name": "stderr",
     "output_type": "stream",
     "text": [
      "C:\\Users\\shash\\anaconda3\\envs\\obj_dec\\lib\\site-packages\\pandas\\core\\frame.py:4441: SettingWithCopyWarning: \n",
      "A value is trying to be set on a copy of a slice from a DataFrame\n",
      "\n",
      "See the caveats in the documentation: https://pandas.pydata.org/pandas-docs/stable/user_guide/indexing.html#returning-a-view-versus-a-copy\n",
      "  return super().rename(\n"
     ]
    }
   ],
   "source": [
    "urban_finalt = urban_merge[['Unnamed: 2','Persons','Persons.1', 'TOT_P']]\n",
    "urban_finalt.rename(columns = {'Unnamed: 2':\"states\"}, inplace = True)"
   ]
  },
  {
   "cell_type": "code",
   "execution_count": 14,
   "id": "2f0335e4",
   "metadata": {
    "ExecuteTime": {
     "end_time": "2021-11-08T11:06:01.053499Z",
     "start_time": "2021-11-08T11:06:01.033935Z"
    }
   },
   "outputs": [
    {
     "data": {
      "text/html": [
       "<div>\n",
       "<style scoped>\n",
       "    .dataframe tbody tr th:only-of-type {\n",
       "        vertical-align: middle;\n",
       "    }\n",
       "\n",
       "    .dataframe tbody tr th {\n",
       "        vertical-align: top;\n",
       "    }\n",
       "\n",
       "    .dataframe thead th {\n",
       "        text-align: right;\n",
       "    }\n",
       "</style>\n",
       "<table border=\"1\" class=\"dataframe\">\n",
       "  <thead>\n",
       "    <tr style=\"text-align: right;\">\n",
       "      <th></th>\n",
       "      <th>states</th>\n",
       "      <th>Persons</th>\n",
       "      <th>Persons.1</th>\n",
       "      <th>TOT_P</th>\n",
       "    </tr>\n",
       "  </thead>\n",
       "  <tbody>\n",
       "    <tr>\n",
       "      <th>0</th>\n",
       "      <td>INDIA</td>\n",
       "      <td>152347285</td>\n",
       "      <td>50625591</td>\n",
       "      <td>377106125</td>\n",
       "    </tr>\n",
       "    <tr>\n",
       "      <th>1</th>\n",
       "      <td>JAMMU &amp; KASHMIR</td>\n",
       "      <td>2015952</td>\n",
       "      <td>837496</td>\n",
       "      <td>3433242</td>\n",
       "    </tr>\n",
       "    <tr>\n",
       "      <th>2</th>\n",
       "      <td>HIMACHAL PRADESH</td>\n",
       "      <td>261187</td>\n",
       "      <td>66469</td>\n",
       "      <td>688552</td>\n",
       "    </tr>\n",
       "    <tr>\n",
       "      <th>3</th>\n",
       "      <td>PUNJAB</td>\n",
       "      <td>5952044</td>\n",
       "      <td>3599043</td>\n",
       "      <td>10399146</td>\n",
       "    </tr>\n",
       "    <tr>\n",
       "      <th>4</th>\n",
       "      <td>CHANDIGARH</td>\n",
       "      <td>568197</td>\n",
       "      <td>317626</td>\n",
       "      <td>1026459</td>\n",
       "    </tr>\n",
       "  </tbody>\n",
       "</table>\n",
       "</div>"
      ],
      "text/plain": [
       "             states    Persons  Persons.1      TOT_P\n",
       "0             INDIA  152347285   50625591  377106125\n",
       "1   JAMMU & KASHMIR    2015952     837496    3433242\n",
       "2  HIMACHAL PRADESH     261187      66469     688552\n",
       "3            PUNJAB    5952044    3599043   10399146\n",
       "4        CHANDIGARH     568197     317626    1026459"
      ]
     },
     "execution_count": 14,
     "metadata": {},
     "output_type": "execute_result"
    }
   ],
   "source": [
    "urban_finalt.head()"
   ]
  },
  {
   "cell_type": "code",
   "execution_count": 15,
   "id": "73646fc8",
   "metadata": {
    "ExecuteTime": {
     "end_time": "2021-11-08T11:06:01.062288Z",
     "start_time": "2021-11-08T11:06:01.056492Z"
    }
   },
   "outputs": [],
   "source": [
    "# urban_final = urban_merge[['Unnamed: 2','TOT_M', \"TOT_F\",'Males.1',\"Females.1\"]]\n",
    "# urban_final.rename(columns = {'Unnamed: 2':\"State\"}, inplace = True)"
   ]
  },
  {
   "cell_type": "code",
   "execution_count": 16,
   "id": "14657eba",
   "metadata": {
    "ExecuteTime": {
     "end_time": "2021-11-08T11:06:01.084204Z",
     "start_time": "2021-11-08T11:06:01.066833Z"
    }
   },
   "outputs": [],
   "source": [
    "####### Rural ############"
   ]
  },
  {
   "cell_type": "code",
   "execution_count": 17,
   "id": "40d07c30",
   "metadata": {
    "ExecuteTime": {
     "end_time": "2021-11-08T11:06:01.102708Z",
     "start_time": "2021-11-08T11:06:01.087174Z"
    }
   },
   "outputs": [
    {
     "name": "stderr",
     "output_type": "stream",
     "text": [
      "<ipython-input-17-39ab4c2239cc>:2: SettingWithCopyWarning: \n",
      "A value is trying to be set on a copy of a slice from a DataFrame.\n",
      "Try using .loc[row_indexer,col_indexer] = value instead\n",
      "\n",
      "See the caveats in the documentation: https://pandas.pydata.org/pandas-docs/stable/user_guide/indexing.html#returning-a-view-versus-a-copy\n",
      "  census_rural['Name'] = census_rural['Name'].apply(lambda x: str(x).upper())\n"
     ]
    }
   ],
   "source": [
    "census_rural = census[((census[\"Level\"] ==  \"STATE\") | (census[\"Level\"] == \"India\")) & (census['TRU'] == \"Rural\")]\n",
    "census_rural['Name'] = census_rural['Name'].apply(lambda x: str(x).upper())"
   ]
  },
  {
   "cell_type": "code",
   "execution_count": 18,
   "id": "bb581ed9",
   "metadata": {
    "ExecuteTime": {
     "end_time": "2021-11-08T11:06:01.124037Z",
     "start_time": "2021-11-08T11:06:01.106327Z"
    }
   },
   "outputs": [],
   "source": [
    "rural_merge = pd.merge(data18_rural, census_rural, how = 'inner', right_on = 'Name', left_on = 'Unnamed: 2')"
   ]
  },
  {
   "cell_type": "code",
   "execution_count": 19,
   "id": "fc417b04",
   "metadata": {
    "ExecuteTime": {
     "end_time": "2021-11-08T11:06:01.142163Z",
     "start_time": "2021-11-08T11:06:01.127027Z"
    }
   },
   "outputs": [
    {
     "name": "stderr",
     "output_type": "stream",
     "text": [
      "C:\\Users\\shash\\anaconda3\\envs\\obj_dec\\lib\\site-packages\\pandas\\core\\frame.py:4441: SettingWithCopyWarning: \n",
      "A value is trying to be set on a copy of a slice from a DataFrame\n",
      "\n",
      "See the caveats in the documentation: https://pandas.pydata.org/pandas-docs/stable/user_guide/indexing.html#returning-a-view-versus-a-copy\n",
      "  return super().rename(\n"
     ]
    }
   ],
   "source": [
    "rural_finalt = rural_merge[['Unnamed: 2','Persons','Persons.1', 'TOT_P']]\n",
    "rural_finalt.rename(columns = {'Unnamed: 2':\"states\"}, inplace = True)"
   ]
  },
  {
   "cell_type": "code",
   "execution_count": 20,
   "id": "47ef42df",
   "metadata": {
    "ExecuteTime": {
     "end_time": "2021-11-08T11:06:01.164879Z",
     "start_time": "2021-11-08T11:06:01.143753Z"
    }
   },
   "outputs": [],
   "source": [
    "# rural_final = rural_merge[['Unnamed: 2','TOT_M', \"TOT_F\",'Males.1',\"Females.1\"]]\n",
    "# rural_final.rename(columns = {'Unnamed: 2':\"State\"}, inplace = True)"
   ]
  },
  {
   "cell_type": "code",
   "execution_count": 21,
   "id": "e6b0d08e",
   "metadata": {
    "ExecuteTime": {
     "end_time": "2021-11-08T11:06:01.182575Z",
     "start_time": "2021-11-08T11:06:01.166874Z"
    }
   },
   "outputs": [
    {
     "data": {
      "text/html": [
       "<div>\n",
       "<style scoped>\n",
       "    .dataframe tbody tr th:only-of-type {\n",
       "        vertical-align: middle;\n",
       "    }\n",
       "\n",
       "    .dataframe tbody tr th {\n",
       "        vertical-align: top;\n",
       "    }\n",
       "\n",
       "    .dataframe thead th {\n",
       "        text-align: right;\n",
       "    }\n",
       "</style>\n",
       "<table border=\"1\" class=\"dataframe\">\n",
       "  <thead>\n",
       "    <tr style=\"text-align: right;\">\n",
       "      <th></th>\n",
       "      <th>states</th>\n",
       "      <th>Persons</th>\n",
       "      <th>Persons.1</th>\n",
       "      <th>TOT_P</th>\n",
       "    </tr>\n",
       "  </thead>\n",
       "  <tbody>\n",
       "    <tr>\n",
       "      <th>0</th>\n",
       "      <td>INDIA</td>\n",
       "      <td>162641485</td>\n",
       "      <td>35383989</td>\n",
       "      <td>833748852</td>\n",
       "    </tr>\n",
       "    <tr>\n",
       "      <th>1</th>\n",
       "      <td>JAMMU &amp; KASHMIR</td>\n",
       "      <td>4167238</td>\n",
       "      <td>1258724</td>\n",
       "      <td>9108060</td>\n",
       "    </tr>\n",
       "    <tr>\n",
       "      <th>2</th>\n",
       "      <td>HIMACHAL PRADESH</td>\n",
       "      <td>981518</td>\n",
       "      <td>280817</td>\n",
       "      <td>6176050</td>\n",
       "    </tr>\n",
       "    <tr>\n",
       "      <th>3</th>\n",
       "      <td>PUNJAB</td>\n",
       "      <td>7083180</td>\n",
       "      <td>4230870</td>\n",
       "      <td>17344192</td>\n",
       "    </tr>\n",
       "    <tr>\n",
       "      <th>4</th>\n",
       "      <td>CHANDIGARH</td>\n",
       "      <td>11723</td>\n",
       "      <td>4353</td>\n",
       "      <td>28991</td>\n",
       "    </tr>\n",
       "  </tbody>\n",
       "</table>\n",
       "</div>"
      ],
      "text/plain": [
       "             states    Persons  Persons.1      TOT_P\n",
       "0             INDIA  162641485   35383989  833748852\n",
       "1   JAMMU & KASHMIR    4167238    1258724    9108060\n",
       "2  HIMACHAL PRADESH     981518     280817    6176050\n",
       "3            PUNJAB    7083180    4230870   17344192\n",
       "4        CHANDIGARH      11723       4353      28991"
      ]
     },
     "execution_count": 21,
     "metadata": {},
     "output_type": "execute_result"
    }
   ],
   "source": [
    "rural_finalt.head()"
   ]
  },
  {
   "cell_type": "code",
   "execution_count": 22,
   "id": "546973e8",
   "metadata": {
    "ExecuteTime": {
     "end_time": "2021-11-08T11:06:01.192468Z",
     "start_time": "2021-11-08T11:06:01.185656Z"
    }
   },
   "outputs": [],
   "source": [
    "#urban_finalt['urban_perc'] = urban_finalt['Persons.1']/urban_finalt['TOT_P']\n",
    "#urban_final['urban_perc_female'] =urban_final['Females.1']/urban_final['TOT_P']\n",
    "#rural_finalt['rural_perc'] =rural_finalt['Persons.1']/rural_finalt['TOT_P']\n",
    "#rural_final['rural_perc_female'] =rural_final['Females.1']/rural_final['TOT_F']"
   ]
  },
  {
   "cell_type": "code",
   "execution_count": 23,
   "id": "b10c1a58",
   "metadata": {
    "ExecuteTime": {
     "end_time": "2021-11-08T11:06:01.220097Z",
     "start_time": "2021-11-08T11:06:01.203581Z"
    }
   },
   "outputs": [
    {
     "data": {
      "text/html": [
       "<div>\n",
       "<style scoped>\n",
       "    .dataframe tbody tr th:only-of-type {\n",
       "        vertical-align: middle;\n",
       "    }\n",
       "\n",
       "    .dataframe tbody tr th {\n",
       "        vertical-align: top;\n",
       "    }\n",
       "\n",
       "    .dataframe thead th {\n",
       "        text-align: right;\n",
       "    }\n",
       "</style>\n",
       "<table border=\"1\" class=\"dataframe\">\n",
       "  <thead>\n",
       "    <tr style=\"text-align: right;\">\n",
       "      <th></th>\n",
       "      <th>states</th>\n",
       "      <th>Persons</th>\n",
       "      <th>Persons.1</th>\n",
       "      <th>TOT_P</th>\n",
       "    </tr>\n",
       "  </thead>\n",
       "  <tbody>\n",
       "    <tr>\n",
       "      <th>0</th>\n",
       "      <td>INDIA</td>\n",
       "      <td>152347285</td>\n",
       "      <td>50625591</td>\n",
       "      <td>377106125</td>\n",
       "    </tr>\n",
       "    <tr>\n",
       "      <th>1</th>\n",
       "      <td>JAMMU &amp; KASHMIR</td>\n",
       "      <td>2015952</td>\n",
       "      <td>837496</td>\n",
       "      <td>3433242</td>\n",
       "    </tr>\n",
       "    <tr>\n",
       "      <th>2</th>\n",
       "      <td>HIMACHAL PRADESH</td>\n",
       "      <td>261187</td>\n",
       "      <td>66469</td>\n",
       "      <td>688552</td>\n",
       "    </tr>\n",
       "    <tr>\n",
       "      <th>3</th>\n",
       "      <td>PUNJAB</td>\n",
       "      <td>5952044</td>\n",
       "      <td>3599043</td>\n",
       "      <td>10399146</td>\n",
       "    </tr>\n",
       "    <tr>\n",
       "      <th>4</th>\n",
       "      <td>CHANDIGARH</td>\n",
       "      <td>568197</td>\n",
       "      <td>317626</td>\n",
       "      <td>1026459</td>\n",
       "    </tr>\n",
       "  </tbody>\n",
       "</table>\n",
       "</div>"
      ],
      "text/plain": [
       "             states    Persons  Persons.1      TOT_P\n",
       "0             INDIA  152347285   50625591  377106125\n",
       "1   JAMMU & KASHMIR    2015952     837496    3433242\n",
       "2  HIMACHAL PRADESH     261187      66469     688552\n",
       "3            PUNJAB    5952044    3599043   10399146\n",
       "4        CHANDIGARH     568197     317626    1026459"
      ]
     },
     "execution_count": 23,
     "metadata": {},
     "output_type": "execute_result"
    }
   ],
   "source": [
    "urban_finalt.head()"
   ]
  },
  {
   "cell_type": "code",
   "execution_count": 24,
   "id": "e59d90e7",
   "metadata": {
    "ExecuteTime": {
     "end_time": "2021-11-08T11:06:01.245172Z",
     "start_time": "2021-11-08T11:06:01.224920Z"
    }
   },
   "outputs": [
    {
     "data": {
      "text/html": [
       "<div>\n",
       "<style scoped>\n",
       "    .dataframe tbody tr th:only-of-type {\n",
       "        vertical-align: middle;\n",
       "    }\n",
       "\n",
       "    .dataframe tbody tr th {\n",
       "        vertical-align: top;\n",
       "    }\n",
       "\n",
       "    .dataframe thead th {\n",
       "        text-align: right;\n",
       "    }\n",
       "</style>\n",
       "<table border=\"1\" class=\"dataframe\">\n",
       "  <thead>\n",
       "    <tr style=\"text-align: right;\">\n",
       "      <th></th>\n",
       "      <th>states</th>\n",
       "      <th>Persons</th>\n",
       "      <th>Persons.1</th>\n",
       "      <th>TOT_P</th>\n",
       "    </tr>\n",
       "  </thead>\n",
       "  <tbody>\n",
       "    <tr>\n",
       "      <th>0</th>\n",
       "      <td>INDIA</td>\n",
       "      <td>162641485</td>\n",
       "      <td>35383989</td>\n",
       "      <td>833748852</td>\n",
       "    </tr>\n",
       "    <tr>\n",
       "      <th>1</th>\n",
       "      <td>JAMMU &amp; KASHMIR</td>\n",
       "      <td>4167238</td>\n",
       "      <td>1258724</td>\n",
       "      <td>9108060</td>\n",
       "    </tr>\n",
       "    <tr>\n",
       "      <th>2</th>\n",
       "      <td>HIMACHAL PRADESH</td>\n",
       "      <td>981518</td>\n",
       "      <td>280817</td>\n",
       "      <td>6176050</td>\n",
       "    </tr>\n",
       "    <tr>\n",
       "      <th>3</th>\n",
       "      <td>PUNJAB</td>\n",
       "      <td>7083180</td>\n",
       "      <td>4230870</td>\n",
       "      <td>17344192</td>\n",
       "    </tr>\n",
       "    <tr>\n",
       "      <th>4</th>\n",
       "      <td>CHANDIGARH</td>\n",
       "      <td>11723</td>\n",
       "      <td>4353</td>\n",
       "      <td>28991</td>\n",
       "    </tr>\n",
       "  </tbody>\n",
       "</table>\n",
       "</div>"
      ],
      "text/plain": [
       "             states    Persons  Persons.1      TOT_P\n",
       "0             INDIA  162641485   35383989  833748852\n",
       "1   JAMMU & KASHMIR    4167238    1258724    9108060\n",
       "2  HIMACHAL PRADESH     981518     280817    6176050\n",
       "3            PUNJAB    7083180    4230870   17344192\n",
       "4        CHANDIGARH      11723       4353      28991"
      ]
     },
     "execution_count": 24,
     "metadata": {},
     "output_type": "execute_result"
    }
   ],
   "source": [
    "rural_finalt.head()"
   ]
  },
  {
   "cell_type": "code",
   "execution_count": 25,
   "id": "71eab505",
   "metadata": {
    "ExecuteTime": {
     "end_time": "2021-11-08T11:06:01.263184Z",
     "start_time": "2021-11-08T11:06:01.248094Z"
    }
   },
   "outputs": [],
   "source": [
    "final_si = urban_finalt.copy()\n",
    "final_si['urban-percentage'] = 100*(urban_finalt['Persons.1']/urban_finalt['TOT_P'])\n",
    "final_si['rural-percentage'] = 100*(rural_finalt['Persons.1']/rural_finalt['TOT_P'])"
   ]
  },
  {
   "cell_type": "code",
   "execution_count": 26,
   "id": "fa46fb63",
   "metadata": {
    "ExecuteTime": {
     "end_time": "2021-11-08T11:06:01.302163Z",
     "start_time": "2021-11-08T11:06:01.265193Z"
    }
   },
   "outputs": [],
   "source": [
    "tmp = []\n",
    "for i in range(final_si.shape[0]):\n",
    "    succ = np.array([urban_finalt.iloc[i,2],rural_finalt.iloc[i,2]])\n",
    "    tot_sample = np.array([urban_finalt.iloc[i,3],rural_finalt.iloc[i,3]])\n",
    "    stats, p_value = proportions_ztest(count = succ, nobs=tot_sample, alternative = 'two-sided')\n",
    "    tmp.append(p_value)\n",
    "final_si['p-value'] = np.array(tmp)\n"
   ]
  },
  {
   "cell_type": "code",
   "execution_count": 27,
   "id": "c276384a",
   "metadata": {
    "ExecuteTime": {
     "end_time": "2021-11-08T11:06:01.310970Z",
     "start_time": "2021-11-08T11:06:01.304125Z"
    },
    "scrolled": false
   },
   "outputs": [],
   "source": [
    "#final_si[['states', 'urban-percentage', 'rural-percentage', 'p-value']]"
   ]
  },
  {
   "cell_type": "code",
   "execution_count": 28,
   "id": "48be7f07",
   "metadata": {
    "ExecuteTime": {
     "end_time": "2021-11-08T11:06:01.337274Z",
     "start_time": "2021-11-08T11:06:01.312682Z"
    }
   },
   "outputs": [],
   "source": [
    "final_si[['states', 'urban-percentage', 'rural-percentage', 'p-value']].to_csv(\"geography-india-3.csv\")"
   ]
  },
  {
   "cell_type": "code",
   "execution_count": 29,
   "id": "bb23c77a",
   "metadata": {
    "ExecuteTime": {
     "end_time": "2021-11-08T11:06:01.345489Z",
     "start_time": "2021-11-08T11:06:01.339710Z"
    }
   },
   "outputs": [],
   "source": [
    "#bilingual"
   ]
  },
  {
   "cell_type": "code",
   "execution_count": 30,
   "id": "83863d34",
   "metadata": {
    "ExecuteTime": {
     "end_time": "2021-11-08T11:06:01.364524Z",
     "start_time": "2021-11-08T11:06:01.347526Z"
    }
   },
   "outputs": [],
   "source": [
    "final_bi = urban_finalt.copy()\n",
    "final_bi['urban-percentage'] = 100*((urban_finalt['Persons'] - urban_finalt['Persons.1'])/urban_finalt['TOT_P'])\n",
    "final_bi['rural-percentage'] = 100*((rural_finalt['Persons'] - rural_finalt['Persons.1'])/rural_finalt['TOT_P'])"
   ]
  },
  {
   "cell_type": "code",
   "execution_count": 31,
   "id": "a2bfd86e",
   "metadata": {
    "ExecuteTime": {
     "end_time": "2021-11-08T11:06:01.406330Z",
     "start_time": "2021-11-08T11:06:01.366520Z"
    }
   },
   "outputs": [],
   "source": [
    "tmp = []\n",
    "for i in range(final_si.shape[0]):\n",
    "    succ = np.array([urban_finalt.iloc[i,1] - urban_finalt.iloc[i,2],rural_finalt.iloc[i,1] - rural_finalt.iloc[i,2]])\n",
    "    tot_sample = np.array([urban_finalt.iloc[i,3],rural_finalt.iloc[i,3]])\n",
    "    stats, p_value = proportions_ztest(count = succ, nobs=tot_sample, alternative = 'two-sided')\n",
    "    tmp.append(p_value)\n",
    "final_bi['p-value'] = np.array(tmp)\n"
   ]
  },
  {
   "cell_type": "code",
   "execution_count": 32,
   "id": "b1ed55d1",
   "metadata": {
    "ExecuteTime": {
     "end_time": "2021-11-08T11:06:01.435529Z",
     "start_time": "2021-11-08T11:06:01.410849Z"
    }
   },
   "outputs": [],
   "source": [
    "final_bi[['states', 'urban-percentage', 'rural-percentage', 'p-value']].to_csv(\"geography-india-2.csv\")"
   ]
  },
  {
   "cell_type": "code",
   "execution_count": 33,
   "id": "dc43a9ce",
   "metadata": {
    "ExecuteTime": {
     "end_time": "2021-11-08T11:06:01.446470Z",
     "start_time": "2021-11-08T11:06:01.439907Z"
    }
   },
   "outputs": [],
   "source": [
    "#final_bi[['states', 'urban-percentage', 'rural-percentage', 'p-value']]"
   ]
  },
  {
   "cell_type": "code",
   "execution_count": 34,
   "id": "9a1a499a",
   "metadata": {
    "ExecuteTime": {
     "end_time": "2021-11-08T11:06:01.464696Z",
     "start_time": "2021-11-08T11:06:01.451764Z"
    }
   },
   "outputs": [],
   "source": [
    "#lingual"
   ]
  },
  {
   "cell_type": "code",
   "execution_count": 35,
   "id": "22dc2787",
   "metadata": {
    "ExecuteTime": {
     "end_time": "2021-11-08T11:06:01.491613Z",
     "start_time": "2021-11-08T11:06:01.468546Z"
    }
   },
   "outputs": [],
   "source": [
    "final_tri = urban_finalt.copy()\n",
    "final_tri['urban-percentage'] = 100*(1 - ((urban_finalt['Persons'] + urban_finalt['Persons.1'])/urban_finalt['TOT_P']))\n",
    "final_tri['rural-percentage'] = 100*(1 - ((rural_finalt['Persons'] + rural_finalt['Persons.1'])/rural_finalt['TOT_P']))"
   ]
  },
  {
   "cell_type": "code",
   "execution_count": 36,
   "id": "a20003c3",
   "metadata": {
    "ExecuteTime": {
     "end_time": "2021-11-08T11:06:01.559829Z",
     "start_time": "2021-11-08T11:06:01.496007Z"
    }
   },
   "outputs": [
    {
     "name": "stderr",
     "output_type": "stream",
     "text": [
      "C:\\Users\\shash\\anaconda3\\envs\\obj_dec\\lib\\site-packages\\statsmodels\\stats\\proportion.py:859: RuntimeWarning: invalid value encountered in sqrt\n",
      "  std_diff = np.sqrt(var_)\n"
     ]
    }
   ],
   "source": [
    "tmp = []\n",
    "for i in range(final_si.shape[0]):\n",
    "    succ = np.array([urban_finalt.iloc[i,3]-urban_finalt.iloc[i,1] - urban_finalt.iloc[i,2],rural_finalt.iloc[i,3] -rural_finalt.iloc[i,1] - rural_finalt.iloc[i,2]])\n",
    "    tot_sample = np.array([urban_finalt.iloc[i,3],rural_finalt.iloc[i,3]])\n",
    "    stats, p_value = proportions_ztest(count = succ, nobs=tot_sample, alternative = 'two-sided')\n",
    "    tmp.append(p_value)\n",
    "final_tri['p-value'] = np.array(tmp)\n"
   ]
  },
  {
   "cell_type": "code",
   "execution_count": 37,
   "id": "a6e34902",
   "metadata": {
    "ExecuteTime": {
     "end_time": "2021-11-08T11:06:01.817438Z",
     "start_time": "2021-11-08T11:06:01.564267Z"
    }
   },
   "outputs": [],
   "source": [
    "final_tri[['states', 'urban-percentage', 'rural-percentage', 'p-value']].to_csv(\"geography-india-1.csv\")"
   ]
  },
  {
   "cell_type": "code",
   "execution_count": null,
   "id": "eb8a7fe7",
   "metadata": {},
   "outputs": [],
   "source": []
  },
  {
   "cell_type": "code",
   "execution_count": null,
   "id": "1c88f9f1",
   "metadata": {},
   "outputs": [],
   "source": []
  },
  {
   "cell_type": "code",
   "execution_count": 38,
   "id": "b281612f",
   "metadata": {
    "ExecuteTime": {
     "end_time": "2021-11-08T11:06:01.844703Z",
     "start_time": "2021-11-08T11:06:01.825749Z"
    }
   },
   "outputs": [],
   "source": [
    "# def cal_pvalue(colmt, colms, colft, colfs):\n",
    "#     pvalue_urban = []\n",
    "#     for s, s1, a, a1 in zip(colmt, colft, colms, colfs):\n",
    "#         succ = np.array([a,a1])\n",
    "#         tot_sample = np.array([s,s1])\n",
    "#         stats, p_value = proportions_ztest(count = succ, nobs=tot_sample, alternative = 'two-sided')\n",
    "#         pvalue_urban.append(p_value)\n",
    "#     return pvalue_urban"
   ]
  },
  {
   "cell_type": "code",
   "execution_count": 40,
   "id": "ef8499c4",
   "metadata": {
    "ExecuteTime": {
     "end_time": "2021-11-08T11:07:38.401809Z",
     "start_time": "2021-11-08T11:07:38.387625Z"
    }
   },
   "outputs": [],
   "source": [
    "# temp = cal_pvalue(final_data['TOT_M_x'],final_data['Males.1_x'], final_data['TOT_F_x'],final_data['Females.1_x'])\n",
    "# final_data['urban_pvalue'] = np.array(temp)\n",
    "# temp = cal_pvalue(final_data['TOT_M_y'],final_data['Males.1_y'], final_data['TOT_F_y'],final_data['Females.1_y'])\n",
    "# final_data['rural_pvalue'] = np.array(temp)"
   ]
  },
  {
   "cell_type": "code",
   "execution_count": null,
   "id": "dabb1fae",
   "metadata": {
    "ExecuteTime": {
     "end_time": "2021-11-08T11:06:02.349522Z",
     "start_time": "2021-11-08T11:05:53.964Z"
    }
   },
   "outputs": [],
   "source": [
    "# final_data.head()"
   ]
  }
 ],
 "metadata": {
  "kernelspec": {
   "display_name": "Python 3",
   "language": "python",
   "name": "python3"
  },
  "language_info": {
   "codemirror_mode": {
    "name": "ipython",
    "version": 3
   },
   "file_extension": ".py",
   "mimetype": "text/x-python",
   "name": "python",
   "nbconvert_exporter": "python",
   "pygments_lexer": "ipython3",
   "version": "3.8.10"
  },
  "varInspector": {
   "cols": {
    "lenName": 16,
    "lenType": 16,
    "lenVar": 40
   },
   "kernels_config": {
    "python": {
     "delete_cmd_postfix": "",
     "delete_cmd_prefix": "del ",
     "library": "var_list.py",
     "varRefreshCmd": "print(var_dic_list())"
    },
    "r": {
     "delete_cmd_postfix": ") ",
     "delete_cmd_prefix": "rm(",
     "library": "var_list.r",
     "varRefreshCmd": "cat(var_dic_list()) "
    }
   },
   "types_to_exclude": [
    "module",
    "function",
    "builtin_function_or_method",
    "instance",
    "_Feature"
   ],
   "window_display": false
  }
 },
 "nbformat": 4,
 "nbformat_minor": 5
}
