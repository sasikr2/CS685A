{
 "cells": [
  {
   "cell_type": "code",
   "execution_count": 1,
   "id": "c4d060b1",
   "metadata": {
    "ExecuteTime": {
     "end_time": "2021-11-16T06:47:42.699464Z",
     "start_time": "2021-11-16T06:47:40.489967Z"
    }
   },
   "outputs": [],
   "source": [
    "import numpy as np\n",
    "import pandas as pd\n",
    "import matplotlib.pyplot as plt"
   ]
  },
  {
   "cell_type": "code",
   "execution_count": 6,
   "id": "6016ac9a",
   "metadata": {
    "ExecuteTime": {
     "end_time": "2021-11-16T06:49:52.445768Z",
     "start_time": "2021-11-16T06:49:52.428971Z"
    }
   },
   "outputs": [],
   "source": [
    "df1 = pd.read_csv(\"Electricity Energy Demand & Deficit by State.csv\", skiprows = [0], header = 1)"
   ]
  },
  {
   "cell_type": "code",
   "execution_count": 7,
   "id": "82737676",
   "metadata": {
    "ExecuteTime": {
     "end_time": "2021-11-16T06:49:52.677309Z",
     "start_time": "2021-11-16T06:49:52.663569Z"
    }
   },
   "outputs": [
    {
     "data": {
      "text/plain": [
       "(467, 4)"
      ]
     },
     "execution_count": 7,
     "metadata": {},
     "output_type": "execute_result"
    }
   ],
   "source": [
    "df1.shape"
   ]
  },
  {
   "cell_type": "code",
   "execution_count": 8,
   "id": "1ea87336",
   "metadata": {
    "ExecuteTime": {
     "end_time": "2021-11-16T06:49:53.886496Z",
     "start_time": "2021-11-16T06:49:53.854322Z"
    }
   },
   "outputs": [],
   "source": [
    "df1.sort_values(['State', \"YearValue\"], inplace = True)"
   ]
  },
  {
   "cell_type": "code",
   "execution_count": 9,
   "id": "d9efb232",
   "metadata": {
    "ExecuteTime": {
     "end_time": "2021-11-16T06:49:57.848964Z",
     "start_time": "2021-11-16T06:49:57.828605Z"
    }
   },
   "outputs": [],
   "source": [
    "df1['difference' ]  = df1['EnergyRequirement_MU'] - df1['EnergyAvailability_MU']"
   ]
  },
  {
   "cell_type": "code",
   "execution_count": 10,
   "id": "7118370d",
   "metadata": {
    "ExecuteTime": {
     "end_time": "2021-11-16T06:49:58.252549Z",
     "start_time": "2021-11-16T06:49:58.243308Z"
    }
   },
   "outputs": [],
   "source": [
    "states = df1['State'].unique()"
   ]
  },
  {
   "cell_type": "code",
   "execution_count": null,
   "id": "ae52fa85",
   "metadata": {
    "ExecuteTime": {
     "end_time": "2021-11-16T06:49:59.596494Z",
     "start_time": "2021-11-16T06:49:59.573855Z"
    }
   },
   "outputs": [],
   "source": []
  },
  {
   "cell_type": "code",
   "execution_count": 12,
   "id": "fe90016f",
   "metadata": {
    "ExecuteTime": {
     "end_time": "2021-11-16T06:50:06.901849Z",
     "start_time": "2021-11-16T06:50:06.846184Z"
    }
   },
   "outputs": [],
   "source": [
    "dct1 =[]\n",
    "\n",
    "for state in states:\n",
    "    data  = df1[df1['State'] == state]\n",
    "    x = np.array(data['difference'].ewm(com = 0.3).mean())[-1]\n",
    "    #print(state, x)\n",
    "    dct1.append((x, state))"
   ]
  },
  {
   "cell_type": "code",
   "execution_count": 13,
   "id": "c480c6e3",
   "metadata": {
    "ExecuteTime": {
     "end_time": "2021-11-16T06:50:17.079058Z",
     "start_time": "2021-11-16T06:50:17.063798Z"
    }
   },
   "outputs": [
    {
     "data": {
      "text/plain": [
       "[(0.0, 'LAKSHADWEEP'),\n",
       " (0.004900161581950243, 'DIU & DAMAN'),\n",
       " (0.04102049436937023, 'SIKKIM'),\n",
       " (0.18162587424722798, 'DADRA & NAGAR HAVELI'),\n",
       " (0.36872513507563887, 'CHANDIGARH'),\n",
       " (0.5797014412831653, 'GOA'),\n",
       " (0.7164743732178758, 'MADHYA PRADESH'),\n",
       " (2.8942742891834614, 'PUDUCHERRY'),\n",
       " (4.10465165309713, 'GUJARAT'),\n",
       " (5.04160202005809, 'MIZORAM'),\n",
       " (5.557831046199439, 'ARUNACHAL PRADESH'),\n",
       " (7.363856958336451, 'PUNJAB'),\n",
       " (9.395877216014897, 'MANIPUR'),\n",
       " (9.921604142895264, 'ODISHA'),\n",
       " (10.369157515319307, 'HARYANA'),\n",
       " (11.232547220900976, 'DELHI'),\n",
       " (17.50816251052107, 'CHHATTISGARH'),\n",
       " (18.89142505535147, 'TELANGANA'),\n",
       " (21.341584291177636, 'NAGALAND'),\n",
       " (23.695017488313496, 'A & N ISLANDS'),\n",
       " (24.050006357610915, 'TRIPURA'),\n",
       " (32.413249565003994, 'TAMILNADU'),\n",
       " (34.5000074749196, 'KARNATAKA'),\n",
       " (37.68040931445903, 'MEGHALAYA'),\n",
       " (37.83046424818082, 'MAHARASHTRA'),\n",
       " (46.58154820162381, 'ANDHRA PRADESH'),\n",
       " (63.74595454267, 'KERALA'),\n",
       " (77.0024337419161, 'DVC'),\n",
       " (92.95871294112058, 'UTTARAKHAND'),\n",
       " (98.67013519874007, 'HIMACHAL PRADESH'),\n",
       " (104.2544148342134, 'JHARKHAND'),\n",
       " (107.88803278499961, 'RAJASTHAN'),\n",
       " (137.7217560260987, 'WEST BENGAL'),\n",
       " (137.82754751473894, 'BIHAR'),\n",
       " (472.5781811284584, 'ASSAM'),\n",
       " (1491.6388568062737, 'UTTAR PRADESH'),\n",
       " (3687.3548145058326, 'JAMMU & KASHMIR')]"
      ]
     },
     "execution_count": 13,
     "metadata": {},
     "output_type": "execute_result"
    }
   ],
   "source": [
    "dct1.sort()\n",
    "dct1"
   ]
  },
  {
   "cell_type": "code",
   "execution_count": 14,
   "id": "8d260003",
   "metadata": {
    "ExecuteTime": {
     "end_time": "2021-11-16T06:50:18.164139Z",
     "start_time": "2021-11-16T06:50:17.709702Z"
    }
   },
   "outputs": [
    {
     "name": "stdout",
     "output_type": "stream",
     "text": [
      "CHANDIGARH\n",
      "GOA\n",
      "MADHYA PRADESH\n",
      "BIHAR\n",
      "ASSAM\n",
      "UTTAR PRADESH\n",
      "JAMMU & KASHMIR\n"
     ]
    },
    {
     "data": {
      "image/png": "[encoded data removed]",
      "text/plain": [
       "<Figure size 432x288 with 1 Axes>"
      ]
     },
     "metadata": {
      "needs_background": "light"
     },
     "output_type": "display_data"
    }
   ],
   "source": [
    "fig = plt.figure()\n",
    "for val, state in dct1[4:7]:\n",
    "    print(state)\n",
    "    data = df1[df1['State'] == state]\n",
    "    \n",
    "    #plt.scatter(x = data['YearValue'].values, y = data['EnergyRequirement_MU'].values)\n",
    "    #plt.scatter(x = data['YearValue'].values, y = data['EnergyAvailability_MU'].values)\n",
    "    plt.plot(data['YearValue'],data['difference'].ewm(com = 0.3).mean(),'o', label = state)\n",
    "    plt.legend()\n",
    "\n",
    "for val, state in dct1[-4:]:\n",
    "    print(state)\n",
    "    data = df1[df1['State'] == state]\n",
    "    \n",
    "    #plt.scatter(x = data['YearValue'].values, y = data['EnergyRequirement_MU'].values)\n",
    "    #plt.scatter(x = data['YearValue'].values, y = data['EnergyAvailability_MU'].values)\n",
    "    plt.plot(data['YearValue'],data['difference'].ewm(com = 0.3).mean(),'o', label = state)\n",
    "    plt.legend()\n",
    "    "
   ]
  },
  {
   "cell_type": "code",
   "execution_count": null,
   "id": "35593906",
   "metadata": {},
   "outputs": [],
   "source": []
  },
  {
   "cell_type": "code",
   "execution_count": 77,
   "id": "b000df5d",
   "metadata": {
    "ExecuteTime": {
     "end_time": "2021-11-15T06:44:07.154223Z",
     "start_time": "2021-11-15T06:44:06.887036Z"
    }
   },
   "outputs": [
    {
     "name": "stdout",
     "output_type": "stream",
     "text": [
      "[288. 330. 352. 369. 397. 406. 446. 455. 471. 514. 497. 643. 647.]\n"
     ]
    },
    {
     "data": {
      "text/plain": [
       "<function matplotlib.pyplot.show(close=None, block=None)>"
      ]
     },
     "execution_count": 77,
     "metadata": {},
     "output_type": "execute_result"
    },
    {
     "data": {
      "image/png": "[encoded data removed]",
      "text/plain": [
       "<Figure size 432x288 with 1 Axes>"
      ]
     },
     "metadata": {
      "needs_background": "light"
     },
     "output_type": "display_data"
    }
   ],
   "source": [
    "#data = df1[(df1['State'] == states[24])]\n",
    "# fig = plt.figure()\n",
    "# print(data['EnergyRequirement_MU'].values)\n",
    "# plt.scatter(x = data['YearValue'].values, y = data['EnergyRequirement_MU'].values)\n",
    "# plt.show"
   ]
  },
  {
   "cell_type": "code",
   "execution_count": 15,
   "id": "a0392dcb",
   "metadata": {
    "ExecuteTime": {
     "end_time": "2021-11-17T14:32:23.293458Z",
     "start_time": "2021-11-17T14:32:23.231411Z"
    }
   },
   "outputs": [
    {
     "name": "stdout",
     "output_type": "stream",
     "text": [
      "[10, 2] [10, 2]\n"
     ]
    }
   ],
   "source": [
    "a = [1, 2]\n",
    "b = a\n",
    "b[0] = 10\n",
    "print(a, b)"
   ]
  },
  {
   "cell_type": "code",
   "execution_count": 16,
   "id": "3a740cf0",
   "metadata": {
    "ExecuteTime": {
     "end_time": "2021-11-17T14:34:03.639625Z",
     "start_time": "2021-11-17T14:34:03.625367Z"
    }
   },
   "outputs": [
    {
     "name": "stdout",
     "output_type": "stream",
     "text": [
      "True False\n"
     ]
    }
   ],
   "source": [
    "a = (1, 2, 3)\n",
    "b = [1,2 ,3 ]\n",
    "c = tuple(a)\n",
    "d= list(b)\n",
    "print(str(a is c) + \" \" + str(b is d))"
   ]
  },
  {
   "cell_type": "code",
   "execution_count": 17,
   "id": "5861f4b6",
   "metadata": {
    "ExecuteTime": {
     "end_time": "2021-11-17T14:36:59.926998Z",
     "start_time": "2021-11-17T14:36:59.915986Z"
    }
   },
   "outputs": [],
   "source": [
    "def fun(a, b):\n",
    "    if( a <=  1 or  b <= 1):\n",
    "        return a\n",
    "    return a*fun(a, b - 1) + b* fun(a-1, b)\n",
    "        "
   ]
  },
  {
   "cell_type": "code",
   "execution_count": 19,
   "id": "b8038234",
   "metadata": {
    "ExecuteTime": {
     "end_time": "2021-11-17T14:37:14.677016Z",
     "start_time": "2021-11-17T14:37:14.662004Z"
    }
   },
   "outputs": [
    {
     "data": {
      "text/plain": [
       "108"
      ]
     },
     "execution_count": 19,
     "metadata": {},
     "output_type": "execute_result"
    }
   ],
   "source": [
    "fun(3,3)"
   ]
  },
  {
   "cell_type": "code",
   "execution_count": 2,
   "id": "4b26c519",
   "metadata": {
    "ExecuteTime": {
     "end_time": "2021-11-17T16:14:19.051184Z",
     "start_time": "2021-11-17T16:14:19.046161Z"
    }
   },
   "outputs": [],
   "source": [
    "a = [10, 20, 30, 50, 60 , 90, 100, 120]"
   ]
  },
  {
   "cell_type": "code",
   "execution_count": 21,
   "id": "670a732c",
   "metadata": {
    "ExecuteTime": {
     "end_time": "2021-11-17T16:14:05.431533Z",
     "start_time": "2021-11-17T16:12:02.419249Z"
    }
   },
   "outputs": [],
   "source": [
    "import statsmodels.api as cm"
   ]
  },
  {
   "cell_type": "code",
   "execution_count": 3,
   "id": "775308dd",
   "metadata": {
    "ExecuteTime": {
     "end_time": "2021-11-17T16:14:26.253278Z",
     "start_time": "2021-11-17T16:14:26.235292Z"
    }
   },
   "outputs": [],
   "source": [
    "import statsmodels.tsa.stattools as pcd\n",
    "import numpy as np"
   ]
  },
  {
   "cell_type": "code",
   "execution_count": 5,
   "id": "3b91a486",
   "metadata": {
    "ExecuteTime": {
     "end_time": "2021-11-17T16:14:32.567115Z",
     "start_time": "2021-11-17T16:14:32.547167Z"
    }
   },
   "outputs": [
    {
     "data": {
      "text/plain": [
       "array([1.        , 0.63392857, 0.30357143])"
      ]
     },
     "execution_count": 5,
     "metadata": {},
     "output_type": "execute_result"
    }
   ],
   "source": [
    "pcd.acf(np.array(a), nlags = 2)"
   ]
  },
  {
   "cell_type": "code",
   "execution_count": null,
   "id": "100b73fa",
   "metadata": {},
   "outputs": [],
   "source": []
  }
 ],
 "metadata": {
  "kernelspec": {
   "display_name": "Python 3",
   "language": "python",
   "name": "python3"
  },
  "language_info": {
   "codemirror_mode": {
    "name": "ipython",
    "version": 3
   },
   "file_extension": ".py",
   "mimetype": "text/x-python",
   "name": "python",
   "nbconvert_exporter": "python",
   "pygments_lexer": "ipython3",
   "version": "3.8.10"
  },
  "varInspector": {
   "cols": {
    "lenName": 16,
    "lenType": 16,
    "lenVar": 40
   },
   "kernels_config": {
    "python": {
     "delete_cmd_postfix": "",
     "delete_cmd_prefix": "del ",
     "library": "var_list.py",
     "varRefreshCmd": "print(var_dic_list())"
    },
    "r": {
     "delete_cmd_postfix": ") ",
     "delete_cmd_prefix": "rm(",
     "library": "var_list.r",
     "varRefreshCmd": "cat(var_dic_list()) "
    }
   },
   "types_to_exclude": [
    "module",
    "function",
    "builtin_function_or_method",
    "instance",
    "_Feature"
   ],
   "window_display": false
  }
 },
 "nbformat": 4,
 "nbformat_minor": 5
}
